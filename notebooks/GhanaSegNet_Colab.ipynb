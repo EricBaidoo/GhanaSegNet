{
 "cells": [
  {
   "cell_type": "markdown",
   "id": "71a693ee",
   "metadata": {
    "colab_type": "text",
    "id": "view-in-github"
   },
   "source": [
    "<a href=\"https://colab.research.google.com/github/EricBaidoo/GhanaSegNet/blob/main/GhanaSegNet_Colab.ipynb\" target=\"_parent\"><img src=\"https://colab.research.google.com/assets/colab-badge.svg\" alt=\"Open In Colab\"/></a>"
   ]
  },
  {
   "cell_type": "markdown",
   "id": "d998c88f",
   "metadata": {
    "id": "d998c88f"
   },
   "source": [
    "# GhanaSegNet Benchmarking Notebook\n",
    "\n",
    "**Objective:** Train and compare GhanaSegNet with baseline architectures\n",
    "\n",
    "**Models:** UNet, DeepLabV3+, SegFormer-B0, GhanaSegNet"
   ]
  },
  {
   "cell_type": "code",
   "execution_count": 1,
   "id": "52b4adc6",
   "metadata": {
    "colab": {
     "base_uri": "https://localhost:8080/"
    },
    "id": "52b4adc6",
    "outputId": "14a04b5e-bca2-47a7-fb6c-e625014e6d60"
   },
   "outputs": [
    {
     "name": "stdout",
     "output_type": "stream",
     "text": [
      "Mounted at /content/drive\n",
      "CUDA available: True\n",
      "GPU: NVIDIA A100-SXM4-40GB\n"
     ]
    }
   ],
   "source": [
    "# Mount Google Drive (if your data is stored there)\n",
    "from google.colab import drive\n",
    "drive.mount('/content/drive')\n",
    "\n",
    "# Check GPU availability\n",
    "import torch\n",
    "print(f\"CUDA available: {torch.cuda.is_available()}\")\n",
    "if torch.cuda.is_available():\n",
    "    print(f\"GPU: {torch.cuda.get_device_name(0)}\")\n",
    "else:\n",
    "    print(\"No GPU detected - switch to GPU runtime!\")"
   ]
  },
  {
   "cell_type": "code",
   "execution_count": 2,
   "id": "6ceb2350",
   "metadata": {
    "colab": {
     "base_uri": "https://localhost:8080/"
    },
    "id": "6ceb2350",
    "outputId": "16d5a3d4-c941-48ba-c2f2-aa2391662c85"
   },
   "outputs": [
    {
     "name": "stdout",
     "output_type": "stream",
     "text": [
      "Cloning into 'GhanaSegNet'...\n",
      "remote: Enumerating objects: 5567, done.\u001b[K\n",
      "remote: Counting objects: 100% (136/136), done.\u001b[K\n",
      "remote: Compressing objects: 100% (92/92), done.\u001b[K\n",
      "remote: Total 5567 (delta 69), reused 98 (delta 43), pack-reused 5431 (from 2)\u001b[K\n",
      "Receiving objects: 100% (5567/5567), 701.56 MiB | 17.01 MiB/s, done.\n",
      "Resolving deltas: 100% (90/90), done.\n",
      "/content/GhanaSegNet\n",
      "total 204\n",
      "drwxr-xr-x 7 root root  4096 Sep 14 17:10 .\n",
      "drwxr-xr-x 1 root root  4096 Sep 14 17:10 ..\n",
      "-rw-r--r-- 1 root root  3692 Sep 14 17:10 cleanup_repo.py\n",
      "-rw-r--r-- 1 root root  6024 Sep 14 17:10 colab_training_cells.py\n",
      "-rw-r--r-- 1 root root 83713 Sep 14 17:10 GhanaSegNet_Colab.ipynb\n",
      "drwxr-xr-x 8 root root  4096 Sep 14 17:10 .git\n",
      "-rw-r--r-- 1 root root   627 Sep 14 17:10 .gitignore\n",
      "-rw-r--r-- 1 root root 57714 Sep 14 17:10 image.png\n",
      "-rw-r--r-- 1 root root    30 Sep 14 17:10 LICENSE\n",
      "drwxr-xr-x 2 root root  4096 Sep 14 17:10 models\n",
      "drwxr-xr-x 2 root root  4096 Sep 14 17:10 notebooks\n",
      "-rw-r--r-- 1 root root   398 Sep 14 17:10 Pipfile\n",
      "-rw-r--r-- 1 root root  3155 Sep 14 17:10 README.md\n",
      "-rw-r--r-- 1 root root   588 Sep 14 17:10 requirements.txt\n",
      "drwxr-xr-x 2 root root  4096 Sep 14 17:10 scripts\n",
      "drwxr-xr-x 2 root root  4096 Sep 14 17:10 utils\n"
     ]
    }
   ],
   "source": [
    "# Clone your GitHub repo\n",
    "!git clone https://github.com/EricBaidoo/GhanaSegNet.git\n",
    "%cd GhanaSegNet\n",
    "\n",
    "# Check if we have the expected files\n",
    "!ls -la"
   ]
  },
  {
   "cell_type": "markdown",
   "id": "fb7bd9c4",
   "metadata": {
    "id": "fb7bd9c4"
   },
   "source": [
    "## Dataset Connection Instructions\n",
    "\n",
    "**Before running the next cell:**\n",
    "\n",
    "1. **Locate your data folder in Google Drive** - Find where you uploaded your `data` folder\n",
    "2. **Check the path** - Note the exact path (e.g., `MyDrive/data` or `MyDrive/GhanaSegNet/data`)\n",
    "3. **Update the copy command** - Modify the path in the next cell to match your Drive structure\n",
    "4. **Run the cell** - The dataset will be copied to your Colab workspace\n",
    "\n",
    "**Expected folder structure after copying:**\n",
    "```\n",
    "data/\n",
    "  train/\n",
    "    images/\n",
    "    masks/\n",
    "  val/\n",
    "    images/\n",
    "    masks/\n",
    "  test/ (optional)\n",
    "    images/\n",
    "    masks/\n",
    "```"
   ]
  },
  {
   "cell_type": "code",
   "execution_count": null,
   "id": "425c0aed",
   "metadata": {
    "id": "425c0aed"
   },
   "outputs": [],
   "source": [
    "# Download and extract data from Google Drive\n",
    "!cp -r \"/content/drive/MyDrive/data\" ."
   ]
  },
  {
   "cell_type": "code",
   "execution_count": 4,
   "id": "76b4f20d",
   "metadata": {
    "colab": {
     "base_uri": "https://localhost:8080/"
    },
    "id": "76b4f20d",
    "outputId": "6b051a72-1543-4b3f-a931-8cf81d27f66f"
   },
   "outputs": [
    {
     "name": "stdout",
     "output_type": "stream",
     "text": [
      "Checking dataset structure...\n",
      "total 24\n",
      "drwx------ 5 root root 4096 Sep 14 17:13 .\n",
      "drwxr-xr-x 8 root root 4096 Sep 14 17:11 ..\n",
      "-rw------- 1 root root 2277 Sep 14 17:11 dataset_loader.py\n",
      "drwx------ 6 root root 4096 Sep 14 17:12 test\n",
      "drwx------ 6 root root 4096 Sep 14 17:18 train\n",
      "drwx------ 6 root root 4096 Sep 14 17:13 val\n",
      "Dataset statistics:\n",
      "Train images:\n",
      "3451\n",
      "Train masks:\n",
      "3436\n",
      "Val images:\n",
      "741\n",
      "Val masks:\n",
      "738\n"
     ]
    }
   ],
   "source": [
    "# Verify dataset is copied successfully\n",
    "print(\"Checking dataset structure...\")\n",
    "!ls -la data/\n",
    "print(\"Dataset statistics:\")\n",
    "!echo \"Train images:\" && ls data/train/images/ | wc -l\n",
    "!echo \"Train masks:\" && ls data/train/masks/ | wc -l\n",
    "!echo \"Val images:\" && ls data/val/images/ | wc -l 2>/dev/null || echo \"No val images found\"\n",
    "!echo \"Val masks:\" && ls data/val/masks/ | wc -l 2>/dev/null || echo \"No val masks found\""
   ]
  },
  {
   "cell_type": "code",
   "execution_count": null,
   "id": "df0f3e19",
   "metadata": {
    "colab": {
     "base_uri": "https://localhost:8080/"
    },
    "id": "df0f3e19",
    "outputId": "7bc9adb0-6e56-4ef4-c6ff-89a0bfd9b75a"
   },
   "outputs": [
    {
     "name": "stdout",
     "output_type": "stream",
     "text": [
      "Looking in indexes: https://download.pytorch.org/whl/cu118\n",
      "Requirement already satisfied: torch in /usr/local/lib/python3.12/dist-packages (2.8.0+cu126)\n",
      "Requirement already satisfied: torchvision in /usr/local/lib/python3.12/dist-packages (0.23.0+cu126)\n",
      "Requirement already satisfied: torchaudio in /usr/local/lib/python3.12/dist-packages (2.8.0+cu126)\n",
      "Requirement already satisfied: filelock in /usr/local/lib/python3.12/dist-packages (from torch) (3.19.1)\n",
      "Requirement already satisfied: typing-extensions>=4.10.0 in /usr/local/lib/python3.12/dist-packages (from torch) (4.15.0)\n",
      "Requirement already satisfied: setuptools in /usr/local/lib/python3.12/dist-packages (from torch) (75.2.0)\n",
      "Requirement already satisfied: sympy>=1.13.3 in /usr/local/lib/python3.12/dist-packages (from torch) (1.13.3)\n",
      "Requirement already satisfied: networkx in /usr/local/lib/python3.12/dist-packages (from torch) (3.5)\n",
      "Requirement already satisfied: jinja2 in /usr/local/lib/python3.12/dist-packages (from torch) (3.1.6)\n",
      "Requirement already satisfied: fsspec in /usr/local/lib/python3.12/dist-packages (from torch) (2025.3.0)\n",
      "Requirement already satisfied: nvidia-cuda-nvrtc-cu12==12.6.77 in /usr/local/lib/python3.12/dist-packages (from torch) (12.6.77)\n",
      "Requirement already satisfied: nvidia-cuda-runtime-cu12==12.6.77 in /usr/local/lib/python3.12/dist-packages (from torch) (12.6.77)\n",
      "Requirement already satisfied: nvidia-cuda-cupti-cu12==12.6.80 in /usr/local/lib/python3.12/dist-packages (from torch) (12.6.80)\n",
      "Requirement already satisfied: nvidia-cudnn-cu12==9.10.2.21 in /usr/local/lib/python3.12/dist-packages (from torch) (9.10.2.21)\n",
      "Requirement already satisfied: nvidia-cublas-cu12==12.6.4.1 in /usr/local/lib/python3.12/dist-packages (from torch) (12.6.4.1)\n",
      "Requirement already satisfied: nvidia-cufft-cu12==11.3.0.4 in /usr/local/lib/python3.12/dist-packages (from torch) (11.3.0.4)\n",
      "Requirement already satisfied: nvidia-curand-cu12==10.3.7.77 in /usr/local/lib/python3.12/dist-packages (from torch) (10.3.7.77)\n",
      "Requirement already satisfied: nvidia-cusolver-cu12==11.7.1.2 in /usr/local/lib/python3.12/dist-packages (from torch) (11.7.1.2)\n",
      "Requirement already satisfied: nvidia-cusparse-cu12==12.5.4.2 in /usr/local/lib/python3.12/dist-packages (from torch) (12.5.4.2)\n",
      "Requirement already satisfied: nvidia-cusparselt-cu12==0.7.1 in /usr/local/lib/python3.12/dist-packages (from torch) (0.7.1)\n",
      "Requirement already satisfied: nvidia-nccl-cu12==2.27.3 in /usr/local/lib/python3.12/dist-packages (from torch) (2.27.3)\n",
      "Requirement already satisfied: nvidia-nvtx-cu12==12.6.77 in /usr/local/lib/python3.12/dist-packages (from torch) (12.6.77)\n",
      "Requirement already satisfied: nvidia-nvjitlink-cu12==12.6.85 in /usr/local/lib/python3.12/dist-packages (from torch) (12.6.85)\n",
      "Requirement already satisfied: nvidia-cufile-cu12==1.11.1.6 in /usr/local/lib/python3.12/dist-packages (from torch) (1.11.1.6)\n",
      "Requirement already satisfied: triton==3.4.0 in /usr/local/lib/python3.12/dist-packages (from torch) (3.4.0)\n",
      "Requirement already satisfied: numpy in /usr/local/lib/python3.12/dist-packages (from torchvision) (2.0.2)\n",
      "Requirement already satisfied: pillow!=8.3.*,>=5.3.0 in /usr/local/lib/python3.12/dist-packages (from torchvision) (11.3.0)\n",
      "Requirement already satisfied: mpmath<1.4,>=1.1.0 in /usr/local/lib/python3.12/dist-packages (from sympy>=1.13.3->torch) (1.3.0)\n",
      "Requirement already satisfied: MarkupSafe>=2.0 in /usr/local/lib/python3.12/dist-packages (from jinja2->torch) (3.0.2)\n",
      "Requirement already satisfied: opencv-python in /usr/local/lib/python3.12/dist-packages (4.12.0.88)\n",
      "Requirement already satisfied: pillow in /usr/local/lib/python3.12/dist-packages (11.3.0)\n",
      "Requirement already satisfied: tqdm in /usr/local/lib/python3.12/dist-packages (4.67.1)\n",
      "Requirement already satisfied: matplotlib in /usr/local/lib/python3.12/dist-packages (3.10.0)\n",
      "Requirement already satisfied: seaborn in /usr/local/lib/python3.12/dist-packages (0.13.2)\n",
      "Requirement already satisfied: numpy<2.3.0,>=2 in /usr/local/lib/python3.12/dist-packages (from opencv-python) (2.0.2)\n",
      "Requirement already satisfied: contourpy>=1.0.1 in /usr/local/lib/python3.12/dist-packages (from matplotlib) (1.3.3)\n",
      "Requirement already satisfied: cycler>=0.10 in /usr/local/lib/python3.12/dist-packages (from matplotlib) (0.12.1)\n",
      "Requirement already satisfied: fonttools>=4.22.0 in /usr/local/lib/python3.12/dist-packages (from matplotlib) (4.59.2)\n",
      "Requirement already satisfied: kiwisolver>=1.3.1 in /usr/local/lib/python3.12/dist-packages (from matplotlib) (1.4.9)\n",
      "Requirement already satisfied: packaging>=20.0 in /usr/local/lib/python3.12/dist-packages (from matplotlib) (25.0)\n",
      "Requirement already satisfied: pyparsing>=2.3.1 in /usr/local/lib/python3.12/dist-packages (from matplotlib) (3.2.3)\n",
      "Requirement already satisfied: python-dateutil>=2.7 in /usr/local/lib/python3.12/dist-packages (from matplotlib) (2.9.0.post0)\n",
      "Requirement already satisfied: pandas>=1.2 in /usr/local/lib/python3.12/dist-packages (from seaborn) (2.2.2)\n",
      "Requirement already satisfied: pytz>=2020.1 in /usr/local/lib/python3.12/dist-packages (from pandas>=1.2->seaborn) (2025.2)\n",
      "Requirement already satisfied: tzdata>=2022.7 in /usr/local/lib/python3.12/dist-packages (from pandas>=1.2->seaborn) (2025.2)\n",
      "Requirement already satisfied: six>=1.5 in /usr/local/lib/python3.12/dist-packages (from python-dateutil>=2.7->matplotlib) (1.17.0)\n",
      "Requirement already satisfied: efficientnet-pytorch in /usr/local/lib/python3.12/dist-packages (0.7.1)\n",
      "Requirement already satisfied: torch in /usr/local/lib/python3.12/dist-packages (from efficientnet-pytorch) (2.8.0+cu126)\n",
      "Requirement already satisfied: filelock in /usr/local/lib/python3.12/dist-packages (from torch->efficientnet-pytorch) (3.19.1)\n",
      "Requirement already satisfied: typing-extensions>=4.10.0 in /usr/local/lib/python3.12/dist-packages (from torch->efficientnet-pytorch) (4.15.0)\n",
      "Requirement already satisfied: setuptools in /usr/local/lib/python3.12/dist-packages (from torch->efficientnet-pytorch) (75.2.0)\n",
      "Requirement already satisfied: sympy>=1.13.3 in /usr/local/lib/python3.12/dist-packages (from torch->efficientnet-pytorch) (1.13.3)\n",
      "Requirement already satisfied: networkx in /usr/local/lib/python3.12/dist-packages (from torch->efficientnet-pytorch) (3.5)\n",
      "Requirement already satisfied: jinja2 in /usr/local/lib/python3.12/dist-packages (from torch->efficientnet-pytorch) (3.1.6)\n",
      "Requirement already satisfied: fsspec in /usr/local/lib/python3.12/dist-packages (from torch->efficientnet-pytorch) (2025.3.0)\n",
      "Requirement already satisfied: nvidia-cuda-nvrtc-cu12==12.6.77 in /usr/local/lib/python3.12/dist-packages (from torch->efficientnet-pytorch) (12.6.77)\n",
      "Requirement already satisfied: nvidia-cuda-runtime-cu12==12.6.77 in /usr/local/lib/python3.12/dist-packages (from torch->efficientnet-pytorch) (12.6.77)\n",
      "Requirement already satisfied: nvidia-cuda-cupti-cu12==12.6.80 in /usr/local/lib/python3.12/dist-packages (from torch->efficientnet-pytorch) (12.6.80)\n",
      "Requirement already satisfied: nvidia-cudnn-cu12==9.10.2.21 in /usr/local/lib/python3.12/dist-packages (from torch->efficientnet-pytorch) (9.10.2.21)\n",
      "Requirement already satisfied: nvidia-cublas-cu12==12.6.4.1 in /usr/local/lib/python3.12/dist-packages (from torch->efficientnet-pytorch) (12.6.4.1)\n",
      "Requirement already satisfied: nvidia-cufft-cu12==11.3.0.4 in /usr/local/lib/python3.12/dist-packages (from torch->efficientnet-pytorch) (11.3.0.4)\n",
      "Requirement already satisfied: nvidia-curand-cu12==10.3.7.77 in /usr/local/lib/python3.12/dist-packages (from torch->efficientnet-pytorch) (10.3.7.77)\n",
      "Requirement already satisfied: nvidia-cusolver-cu12==11.7.1.2 in /usr/local/lib/python3.12/dist-packages (from torch->efficientnet-pytorch) (11.7.1.2)\n",
      "Requirement already satisfied: nvidia-cusparse-cu12==12.5.4.2 in /usr/local/lib/python3.12/dist-packages (from torch->efficientnet-pytorch) (12.5.4.2)\n",
      "Requirement already satisfied: nvidia-cusparselt-cu12==0.7.1 in /usr/local/lib/python3.12/dist-packages (from torch->efficientnet-pytorch) (0.7.1)\n",
      "Requirement already satisfied: nvidia-nccl-cu12==2.27.3 in /usr/local/lib/python3.12/dist-packages (from torch->efficientnet-pytorch) (2.27.3)\n",
      "Requirement already satisfied: nvidia-nvtx-cu12==12.6.77 in /usr/local/lib/python3.12/dist-packages (from torch->efficientnet-pytorch) (12.6.77)\n",
      "Requirement already satisfied: nvidia-nvjitlink-cu12==12.6.85 in /usr/local/lib/python3.12/dist-packages (from torch->efficientnet-pytorch) (12.6.85)\n",
      "Requirement already satisfied: nvidia-cufile-cu12==1.11.1.6 in /usr/local/lib/python3.12/dist-packages (from torch->efficientnet-pytorch) (1.11.1.6)\n",
      "Requirement already satisfied: triton==3.4.0 in /usr/local/lib/python3.12/dist-packages (from torch->efficientnet-pytorch) (3.4.0)\n",
      "Requirement already satisfied: mpmath<1.4,>=1.1.0 in /usr/local/lib/python3.12/dist-packages (from sympy>=1.13.3->torch->efficientnet-pytorch) (1.3.0)\n",
      "Requirement already satisfied: MarkupSafe>=2.0 in /usr/local/lib/python3.12/dist-packages (from jinja2->torch->efficientnet-pytorch) (3.0.2)\n",
      "Requirement already satisfied: segmentation-models-pytorch in /usr/local/lib/python3.12/dist-packages (0.5.0)\n",
      "Requirement already satisfied: huggingface-hub>=0.24 in /usr/local/lib/python3.12/dist-packages (from segmentation-models-pytorch) (0.34.4)\n",
      "Requirement already satisfied: numpy>=1.19.3 in /usr/local/lib/python3.12/dist-packages (from segmentation-models-pytorch) (2.0.2)\n",
      "Requirement already satisfied: pillow>=8 in /usr/local/lib/python3.12/dist-packages (from segmentation-models-pytorch) (11.3.0)\n",
      "Requirement already satisfied: safetensors>=0.3.1 in /usr/local/lib/python3.12/dist-packages (from segmentation-models-pytorch) (0.6.2)\n",
      "Requirement already satisfied: timm>=0.9 in /usr/local/lib/python3.12/dist-packages (from segmentation-models-pytorch) (1.0.19)\n",
      "Requirement already satisfied: torch>=1.8 in /usr/local/lib/python3.12/dist-packages (from segmentation-models-pytorch) (2.8.0+cu126)\n",
      "Requirement already satisfied: torchvision>=0.9 in /usr/local/lib/python3.12/dist-packages (from segmentation-models-pytorch) (0.23.0+cu126)\n",
      "Requirement already satisfied: tqdm>=4.42.1 in /usr/local/lib/python3.12/dist-packages (from segmentation-models-pytorch) (4.67.1)\n",
      "Requirement already satisfied: filelock in /usr/local/lib/python3.12/dist-packages (from huggingface-hub>=0.24->segmentation-models-pytorch) (3.19.1)\n",
      "Requirement already satisfied: fsspec>=2023.5.0 in /usr/local/lib/python3.12/dist-packages (from huggingface-hub>=0.24->segmentation-models-pytorch) (2025.3.0)\n",
      "Requirement already satisfied: packaging>=20.9 in /usr/local/lib/python3.12/dist-packages (from huggingface-hub>=0.24->segmentation-models-pytorch) (25.0)\n",
      "Requirement already satisfied: pyyaml>=5.1 in /usr/local/lib/python3.12/dist-packages (from huggingface-hub>=0.24->segmentation-models-pytorch) (6.0.2)\n",
      "Requirement already satisfied: requests in /usr/local/lib/python3.12/dist-packages (from huggingface-hub>=0.24->segmentation-models-pytorch) (2.32.4)\n",
      "Requirement already satisfied: typing-extensions>=3.7.4.3 in /usr/local/lib/python3.12/dist-packages (from huggingface-hub>=0.24->segmentation-models-pytorch) (4.15.0)\n",
      "Requirement already satisfied: hf-xet<2.0.0,>=1.1.3 in /usr/local/lib/python3.12/dist-packages (from huggingface-hub>=0.24->segmentation-models-pytorch) (1.1.9)\n",
      "Requirement already satisfied: setuptools in /usr/local/lib/python3.12/dist-packages (from torch>=1.8->segmentation-models-pytorch) (75.2.0)\n",
      "Requirement already satisfied: sympy>=1.13.3 in /usr/local/lib/python3.12/dist-packages (from torch>=1.8->segmentation-models-pytorch) (1.13.3)\n",
      "Requirement already satisfied: networkx in /usr/local/lib/python3.12/dist-packages (from torch>=1.8->segmentation-models-pytorch) (3.5)\n",
      "Requirement already satisfied: jinja2 in /usr/local/lib/python3.12/dist-packages (from torch>=1.8->segmentation-models-pytorch) (3.1.6)\n",
      "Requirement already satisfied: nvidia-cuda-nvrtc-cu12==12.6.77 in /usr/local/lib/python3.12/dist-packages (from torch>=1.8->segmentation-models-pytorch) (12.6.77)\n",
      "Requirement already satisfied: nvidia-cuda-runtime-cu12==12.6.77 in /usr/local/lib/python3.12/dist-packages (from torch>=1.8->segmentation-models-pytorch) (12.6.77)\n",
      "Requirement already satisfied: nvidia-cuda-cupti-cu12==12.6.80 in /usr/local/lib/python3.12/dist-packages (from torch>=1.8->segmentation-models-pytorch) (12.6.80)\n",
      "Requirement already satisfied: nvidia-cudnn-cu12==9.10.2.21 in /usr/local/lib/python3.12/dist-packages (from torch>=1.8->segmentation-models-pytorch) (9.10.2.21)\n",
      "Requirement already satisfied: nvidia-cublas-cu12==12.6.4.1 in /usr/local/lib/python3.12/dist-packages (from torch>=1.8->segmentation-models-pytorch) (12.6.4.1)\n",
      "Requirement already satisfied: nvidia-cufft-cu12==11.3.0.4 in /usr/local/lib/python3.12/dist-packages (from torch>=1.8->segmentation-models-pytorch) (11.3.0.4)\n",
      "Requirement already satisfied: nvidia-curand-cu12==10.3.7.77 in /usr/local/lib/python3.12/dist-packages (from torch>=1.8->segmentation-models-pytorch) (10.3.7.77)\n",
      "Requirement already satisfied: nvidia-cusolver-cu12==11.7.1.2 in /usr/local/lib/python3.12/dist-packages (from torch>=1.8->segmentation-models-pytorch) (11.7.1.2)\n",
      "Requirement already satisfied: nvidia-cusparse-cu12==12.5.4.2 in /usr/local/lib/python3.12/dist-packages (from torch>=1.8->segmentation-models-pytorch) (12.5.4.2)\n",
      "Requirement already satisfied: nvidia-cusparselt-cu12==0.7.1 in /usr/local/lib/python3.12/dist-packages (from torch>=1.8->segmentation-models-pytorch) (0.7.1)\n",
      "Requirement already satisfied: nvidia-nccl-cu12==2.27.3 in /usr/local/lib/python3.12/dist-packages (from torch>=1.8->segmentation-models-pytorch) (2.27.3)\n",
      "Requirement already satisfied: nvidia-nvtx-cu12==12.6.77 in /usr/local/lib/python3.12/dist-packages (from torch>=1.8->segmentation-models-pytorch) (12.6.77)\n",
      "Requirement already satisfied: nvidia-nvjitlink-cu12==12.6.85 in /usr/local/lib/python3.12/dist-packages (from torch>=1.8->segmentation-models-pytorch) (12.6.85)\n",
      "Requirement already satisfied: nvidia-cufile-cu12==1.11.1.6 in /usr/local/lib/python3.12/dist-packages (from torch>=1.8->segmentation-models-pytorch) (1.11.1.6)\n",
      "Requirement already satisfied: triton==3.4.0 in /usr/local/lib/python3.12/dist-packages (from torch>=1.8->segmentation-models-pytorch) (3.4.0)\n",
      "Requirement already satisfied: mpmath<1.4,>=1.1.0 in /usr/local/lib/python3.12/dist-packages (from sympy>=1.13.3->torch>=1.8->segmentation-models-pytorch) (1.3.0)\n",
      "Requirement already satisfied: MarkupSafe>=2.0 in /usr/local/lib/python3.12/dist-packages (from jinja2->torch>=1.8->segmentation-models-pytorch) (3.0.2)\n",
      "Requirement already satisfied: charset_normalizer<4,>=2 in /usr/local/lib/python3.12/dist-packages (from requests->huggingface-hub>=0.24->segmentation-models-pytorch) (3.4.3)\n",
      "Requirement already satisfied: idna<4,>=2.5 in /usr/local/lib/python3.12/dist-packages (from requests->huggingface-hub>=0.24->segmentation-models-pytorch) (3.10)\n",
      "Requirement already satisfied: urllib3<3,>=1.21.1 in /usr/local/lib/python3.12/dist-packages (from requests->huggingface-hub>=0.24->segmentation-models-pytorch) (2.5.0)\n",
      "Requirement already satisfied: certifi>=2017.4.17 in /usr/local/lib/python3.12/dist-packages (from requests->huggingface-hub>=0.24->segmentation-models-pytorch) (2025.8.3)\n",
      "🖥️  CUDA available: True\n",
      "🎮 GPU device: NVIDIA A100-SXM4-40GB\n",
      "📊 PyTorch version: 2.8.0+cu126\n",
      "✅ EfficientNet-PyTorch installed successfully\n"
     ]
    }
   ],
   "source": [
    "# Setup and Dependencies\n",
    "# Install all required dependencies\n",
    "!pip install torch torchvision torchaudio --index-url https://download.pytorch.org/whl/cu118\n",
    "!pip install opencv-python pillow tqdm matplotlib seaborn\n",
    "!pip install efficientnet-pytorch  # Required for GhanaSegNet backbone\n",
    "!pip install segmentation-models-pytorch  # For DeepLabV3+ and other models\n",
    "\n",
    "import torch\n",
    "import os\n",
    "print(f\"CUDA available: {torch.cuda.is_available()}\")\n",
    "print(f\"GPU device: {torch.cuda.get_device_name(0) if torch.cuda.is_available() else 'No GPU'}\")\n",
    "print(f\"PyTorch version: {torch.__version__}\")\n",
    "\n",
    "# Verify EfficientNet installation\n",
    "try:\n",
    "    from efficientnet_pytorch import EfficientNet\n",
    "    print(\"EfficientNet-PyTorch installed successfully\")\n",
    "except ImportError:\n",
    "    print(\"EfficientNet-PyTorch not found - installing...\")\n",
    "    !pip install efficientnet-pytorch\n",
    "    from efficientnet_pytorch import EfficientNet\n",
    "    print(\"EfficientNet-PyTorch installed successfully\")"
   ]
  },
  {
   "cell_type": "code",
   "execution_count": null,
   "id": "ea95a46b",
   "metadata": {
    "colab": {
     "base_uri": "https://localhost:8080/"
    },
    "id": "ea95a46b",
    "outputId": "b104ac0d-dda1-44a0-91fb-11a3c2695778"
   },
   "outputs": [
    {
     "name": "stdout",
     "output_type": "stream",
     "text": [
      "📁 Current directory: /content/GhanaSegNet\n",
      "📄 Files: ['LICENSE', '.gitignore', 'notebooks', 'scripts', '.git', 'README.md', 'Pipfile', 'cleanup_repo.py', 'requirements.txt', 'GhanaSegNet_Colab.ipynb']\n",
      "\n",
      "🔍 Verifying project imports...\n",
      "✅ GhanaSegNet model imported successfully\n",
      "✅ All baseline models imported successfully\n"
     ]
    }
   ],
   "source": [
    "# Upload your GhanaSegNet folder to Colab first!\n",
    "os.chdir('/content/GhanaSegNet')\n",
    "print(f\"Current directory: {os.getcwd()}\")\n",
    "print(f\"Files: {os.listdir('.')[:10]}\")  # Show first 10 files\n",
    "\n",
    "# Verify all required modules can be imported\n",
    "print(\"\\nVerifying project imports...\")\n",
    "try:\n",
    "    from models.ghanasegnet import GhanaSegNet\n",
    "    print(\"GhanaSegNet model imported successfully\")\n",
    "except ImportError as e:\n",
    "    print(f\"GhanaSegNet import failed: {e}\")\n",
    "\n",
    "try:\n",
    "    from models.unet import UNet\n",
    "    from models.deeplabv3plus import DeepLabV3Plus\n",
    "    from models.segformer import SegFormerB0\n",
    "    print(\"All baseline models imported successfully\")\n",
    "except ImportError as e:\n",
    "    print(f\"Baseline model import failed: {e}\")"
   ]
  },
  {
   "cell_type": "code",
   "execution_count": null,
   "id": "6b7db35c",
   "metadata": {},
   "outputs": [],
   "source": [
    "# AUTO-SAVE SETUP - Run this after project imports are verified\n",
    "from google.colab import drive\n",
    "import os\n",
    "import shutil\n",
    "\n",
    "# Mount Google Drive if not already mounted\n",
    "if not os.path.exists('/content/drive'):\n",
    "    drive.mount('/content/drive')\n",
    "\n",
    "# Create save directory in Google Drive  \n",
    "save_dir = '/content/drive/MyDrive/GhanaSegNet_Results'\n",
    "os.makedirs(save_dir, exist_ok=True)\n",
    "\n",
    "def auto_save_model(model_name):\n",
    "    \"\"\"Automatically save model to Google Drive after training\"\"\"\n",
    "    local_path = f'checkpoints/{model_name}'\n",
    "    drive_path = f'{save_dir}/{model_name}'\n",
    "    \n",
    "    if os.path.exists(local_path):\n",
    "        # Copy to Google Drive\n",
    "        if os.path.exists(drive_path):\n",
    "            shutil.rmtree(drive_path)\n",
    "        shutil.copytree(local_path, drive_path)\n",
    "        print(f\"SUCCESS: {model_name.upper()} SAVED TO GOOGLE DRIVE!\")\n",
    "        print(f\"Location: {drive_path}\")\n",
    "    else:\n",
    "        print(f\"ERROR: {model_name} not found for saving\")\n",
    "\n",
    "print(\"AUTO-SAVE READY!\")\n",
    "print(f\"Results will be saved to: {save_dir}\")"
   ]
  },
  {
   "cell_type": "code",
   "execution_count": null,
   "id": "45f88013",
   "metadata": {
    "colab": {
     "base_uri": "https://localhost:8080/"
    },
    "id": "45f88013",
    "outputId": "b353e117-dfa4-4a25-d981-c0bf63bd04ae"
   },
   "outputs": [
    {
     "name": "stdout",
     "output_type": "stream",
     "text": [
      "🚀 Starting GhanaSegNet training...\n"
     ]
    },
    {
     "data": {
      "text/plain": [
       "CompletedProcess(args=['python', 'scripts/train_baselines.py', '--model', 'ghanasegnet', '--epochs', '15'], returncode=0)"
      ]
     },
     "execution_count": 10,
     "metadata": {},
     "output_type": "execute_result"
    }
   ],
   "source": [
    "# Train GhanaSegNet\n",
    "import subprocess\n",
    "\n",
    "print(\"Starting GhanaSegNet training...\")\n",
    "result = subprocess.run(['python', 'scripts/train_baselines.py', '--model', 'ghanasegnet', '--epochs', '15'])\n",
    "\n",
    "if result.returncode == 0:\n",
    "    auto_save_model('ghanasegnet')\n",
    "else:\n",
    "    print(\"ERROR: GhanaSegNet training failed!\")"
   ]
  },
  {
   "cell_type": "code",
   "execution_count": null,
   "id": "5633249c",
   "metadata": {
    "colab": {
     "base_uri": "https://localhost:8080/"
    },
    "id": "5633249c",
    "outputId": "c8d3935c-8907-4ac1-928c-f5552559f32c"
   },
   "outputs": [
    {
     "name": "stdout",
     "output_type": "stream",
     "text": [
      "🚀 Starting SegFormer training...\n",
      "🤖 Pure Transformer architecture baseline\n",
      "📊 Expected performance: 18-23% mIoU\n"
     ]
    },
    {
     "data": {
      "text/plain": [
       "CompletedProcess(args=['python', 'scripts/train_baselines.py', '--model', 'segformer', '--epochs', '15'], returncode=0)"
      ]
     },
     "execution_count": 11,
     "metadata": {},
     "output_type": "execute_result"
    }
   ],
   "source": [
    "# Train SegFormer\n",
    "print(\"Starting SegFormer training...\")\n",
    "result = subprocess.run(['python', 'scripts/train_baselines.py', '--model', 'segformer', '--epochs', '15'])\n",
    "\n",
    "if result.returncode == 0:\n",
    "    auto_save_model('segformer')\n",
    "else:\n",
    "    print(\"ERROR: SegFormer training failed!\")"
   ]
  },
  {
   "cell_type": "code",
   "execution_count": null,
   "id": "20faabe7",
   "metadata": {
    "colab": {
     "base_uri": "https://localhost:8080/"
    },
    "id": "20faabe7",
    "outputId": "1ba631ef-881e-438b-bf4f-5d7906adb26a"
   },
   "outputs": [
    {
     "name": "stdout",
     "output_type": "stream",
     "text": [
      "🚀 Starting DeepLabV3+ training...\n",
      "🔬 ResNet-50 backbone with atrous convolutions\n",
      "📊 Expected performance: 15-21% mIoU\n"
     ]
    },
    {
     "data": {
      "text/plain": [
       "CompletedProcess(args=['python', 'scripts/train_baselines.py', '--model', 'deeplabv3plus', '--epochs', '15'], returncode=0)"
      ]
     },
     "execution_count": 12,
     "metadata": {},
     "output_type": "execute_result"
    }
   ],
   "source": [
    "# Train DeepLabV3+\n",
    "print(\"Starting DeepLabV3+ training...\")\n",
    "result = subprocess.run(['python', 'scripts/train_baselines.py', '--model', 'deeplabv3plus', '--epochs', '15'])\n",
    "\n",
    "if result.returncode == 0:\n",
    "    auto_save_model('deeplabv3plus')\n",
    "else:\n",
    "    print(\"ERROR: DeepLabV3+ training failed!\")"
   ]
  },
  {
   "cell_type": "code",
   "execution_count": null,
   "id": "dd1624e2",
   "metadata": {
    "colab": {
     "base_uri": "https://localhost:8080/"
    },
    "id": "dd1624e2",
    "outputId": "3ae26dff-4d61-4e92-d88a-f8bc1df0a511"
   },
   "outputs": [
    {
     "name": "stdout",
     "output_type": "stream",
     "text": [
      "🚀 Starting UNet training...\n",
      "🏥 Medical imaging architecture baseline\n",
      "📊 Expected performance: 12-18% mIoU\n"
     ]
    },
    {
     "data": {
      "text/plain": [
       "CompletedProcess(args=['python', 'scripts/train_baselines.py', '--model', 'unet', '--epochs', '15'], returncode=0)"
      ]
     },
     "execution_count": 13,
     "metadata": {},
     "output_type": "execute_result"
    }
   ],
   "source": [
    "# Train UNet\n",
    "print(\"Starting UNet training...\")\n",
    "\n",
    "result = subprocess.run(['python', 'scripts/train_baselines.py', '--model', 'unet', '--epochs', '15'])\n",
    "\n",
    "if result.returncode == 0:\n",
    "    auto_save_model('unet')\n",
    "else:\n",
    "    print(\"ERROR: UNet training failed!\")"
   ]
  },
  {
   "cell_type": "markdown",
   "id": "d21bdc97",
   "metadata": {
    "id": "d21bdc97"
   },
   "source": [
    "# Results Analysis"
   ]
  },
  {
   "cell_type": "code",
   "execution_count": null,
   "id": "23d987f8",
   "metadata": {
    "colab": {
     "base_uri": "https://localhost:8080/",
     "height": 1000
    },
    "id": "23d987f8",
    "outputId": "933c506f-7f8d-4ffe-c63c-501d9bc47de9"
   },
   "outputs": [
    {
     "name": "stdout",
     "output_type": "stream",
     "text": [
      " Loading results...\n",
      " GHANASEGNET: 24.68% mIoU\n",
      " SEGFORMER: 24.37% mIoU\n",
      " DEEPLABV3PLUS: 24.63% mIoU\n",
      " UNET: 24.37% mIoU\n"
     ]
    },
    {
     "name": "stderr",
     "output_type": "stream",
     "text": [
      "/tmp/ipython-input-3359761280.py:61: UserWarning: Glyph 127942 (\\N{TROPHY}) missing from font(s) DejaVu Sans.\n",
      "  plt.tight_layout()\n",
      "/tmp/ipython-input-3359761280.py:61: UserWarning: Glyph 128200 (\\N{CHART WITH UPWARDS TREND}) missing from font(s) DejaVu Sans.\n",
      "  plt.tight_layout()\n",
      "/usr/local/lib/python3.12/dist-packages/IPython/core/pylabtools.py:151: UserWarning: Glyph 127942 (\\N{TROPHY}) missing from font(s) DejaVu Sans.\n",
      "  fig.canvas.print_figure(bytes_io, **kw)\n",
      "/usr/local/lib/python3.12/dist-packages/IPython/core/pylabtools.py:151: UserWarning: Glyph 128200 (\\N{CHART WITH UPWARDS TREND}) missing from font(s) DejaVu Sans.\n",
      "  fig.canvas.print_figure(bytes_io, **kw)\n"
     ]
    },
    {
     "data": {
      "image/png": "[encoded data removed]",
      "text/plain": [
       "<Figure size 1500x1200 with 4 Axes>"
      ]
     },
     "metadata": {},
     "output_type": "display_data"
    },
    {
     "name": "stdout",
     "output_type": "stream",
     "text": [
      "\n",
      "================================================================================\n",
      " GHANASEGNET FAIR COMPARISON RESULTS\n",
      "================================================================================\n",
      "Model           mIoU (%)   Parameters   Epochs   Status\n",
      "--------------------------------------------------------------------------------\n",
      "GHANASEGNET     24.7       6.3         M 11        WINNER\n",
      "SEGFORMER       24.4       3.7         M 6        \n",
      "DEEPLABV3PLUS   24.6       40.3        M 7        \n",
      "UNET            24.4       31.0        M 6        \n",
      "--------------------------------------------------------------------------------\n",
      " Best model improvement over 2nd best: 0.2%\n",
      " Most efficient model: SEGFORMER (3.7M params)\n",
      "================================================================================\n"
     ]
    }
   ],
   "source": [
    "import json\n",
    "import matplotlib.pyplot as plt\n",
    "import numpy as np\n",
    "import os\n",
    "\n",
    "# Load all results (including GhanaSegNet V2) - FIXED VERSION\n",
    "models = ['ghanasegnet', 'segformer', 'deeplabv3plus', 'unet']\n",
    "results = {}\n",
    "print(\"Loading results...\")\n",
    "\n",
    "for model in models:\n",
    "    # Try multiple possible file locations and names (local + Google Drive)\n",
    "    possible_paths = [\n",
    "        f'checkpoints/{model}/{model}_results.json',\n",
    "        f'checkpoints/{model}/results.json',\n",
    "        f'checkpoints/{model}/training_history.json',\n",
    "        f'/content/drive/MyDrive/GhanaSegNet_Results/{model}/{model}_results.json',\n",
    "        f'/content/drive/MyDrive/GhanaSegNet_Results/{model}/results.json',\n",
    "        f'/content/drive/MyDrive/GhanaSegNet_Results/{model}/training_history.json'\n",
    "    ]\n",
    "    \n",
    "    loaded = False\n",
    "    for path in possible_paths:\n",
    "        if os.path.exists(path):\n",
    "            try:\n",
    "                with open(path, 'r') as f:\n",
    "                    data = json.load(f)\n",
    "                \n",
    "                # Handle different result formats\n",
    "                if isinstance(data, dict) and 'best_iou' in data:\n",
    "                    results[model] = data\n",
    "                    print(f\"SUCCESS {model.upper()}: {data['best_iou']*100:.2f}% mIoU\")\n",
    "                    loaded = True\n",
    "                    break\n",
    "                elif isinstance(data, list) and len(data) > 0 and 'val_iou' in data[-1]:\n",
    "                    # Convert training history to results format\n",
    "                    best_iou = max(epoch.get('val_iou', 0) for epoch in data)\n",
    "                    results[model] = {\n",
    "                        'best_iou': best_iou, \n",
    "                        'final_epoch': len(data),\n",
    "                        'total_parameters': data[0].get('total_parameters', 0)\n",
    "                    }\n",
    "                    print(f\"SUCCESS {model.upper()}: {best_iou*100:.2f}% mIoU\")\n",
    "                    loaded = True\n",
    "                    break\n",
    "            except Exception as e:\n",
    "                print(f\"WARNING: Error reading {path}: {e}\")\n",
    "                continue\n",
    "    \n",
    "    if not loaded:\n",
    "        print(f\"WARNING: {model.upper()}: Results not found\")\n",
    "        # Debug info\n",
    "        model_dir = f'checkpoints/{model}'\n",
    "        if os.path.exists(model_dir):\n",
    "            files = os.listdir(model_dir)\n",
    "            print(f\"    Directory exists with files: {files}\")\n",
    "        else:\n",
    "            print(f\"    Directory doesn't exist: {model_dir}\")\n",
    "\n",
    "# Create comprehensive comparison plot\n",
    "if len(results) > 0:\n",
    "    fig, ((ax1, ax2), (ax3, ax4)) = plt.subplots(2, 2, figsize=(15, 12))\n",
    "\n",
    "    # Model names and colors\n",
    "    model_names = [m.upper().replace('_', ' ') for m in results.keys()]\n",
    "    colors = ['#FF6B6B', '#4ECDC4', '#45B7D1', '#96CEB4', '#F7B801'][:len(results)]\n",
    "\n",
    "    # 1. Performance comparison\n",
    "    ious = [results[m]['best_iou'] * 100 for m in results.keys()]\n",
    "    bars1 = ax1.bar(model_names, ious, color=colors)\n",
    "    ax1.set_ylabel('mIoU (%)', fontsize=12)\n",
    "    ax1.set_title('Model Performance Comparison', fontsize=14, fontweight='bold')\n",
    "    ax1.set_ylim(0, max(ious) * 1.2 if ious else 30)\n",
    "    \n",
    "    # Rotate labels if needed\n",
    "    if len(model_names) > 3:\n",
    "        ax1.tick_params(axis='x', rotation=45)\n",
    "    \n",
    "    for i, v in enumerate(ious):\n",
    "        ax1.text(i, v + 1, f'{v:.1f}%', ha='center', va='bottom', fontweight='bold')\n",
    "\n",
    "    # 2. Parameter efficiency  \n",
    "    params = [results[m].get('total_parameters', 0) / 1e6 for m in results.keys()]\n",
    "    bars2 = ax2.bar(model_names, params, color=colors)\n",
    "    ax2.set_ylabel('Parameters (Millions)', fontsize=12)\n",
    "    ax2.set_title('Model Efficiency Comparison', fontsize=14, fontweight='bold')\n",
    "    if len(model_names) > 3:\n",
    "        ax2.tick_params(axis='x', rotation=45)\n",
    "    \n",
    "    for i, v in enumerate(params):\n",
    "        ax2.text(i, v + 0.5, f'{v:.1f}M', ha='center', va='bottom', fontweight='bold')\n",
    "\n",
    "    # 3. Training epochs (final)\n",
    "    epochs = [results[m].get('final_epoch', 0) for m in results.keys()]\n",
    "    bars3 = ax3.bar(model_names, epochs, color=colors)\n",
    "    ax3.set_ylabel('Training Epochs', fontsize=12)\n",
    "    ax3.set_title('Training Progress', fontsize=14, fontweight='bold')\n",
    "    ax3.axhline(y=15, color='red', linestyle='--', alpha=0.7, label='Target (15 epochs)')\n",
    "    ax3.legend()\n",
    "    if len(model_names) > 3:\n",
    "        ax3.tick_params(axis='x', rotation=45)\n",
    "    \n",
    "    for i, v in enumerate(epochs):\n",
    "        color = 'red' if v < 15 else 'green'\n",
    "        ax3.text(i, v + 0.5, f'{v}', ha='center', va='bottom', fontweight='bold', color=color)\n",
    "\n",
    "    # 4. Performance vs Parameters scatter plot\n",
    "    if params and ious:\n",
    "        scatter = ax4.scatter(params, ious, c=colors, s=200, alpha=0.7)\n",
    "        ax4.set_xlabel('Parameters (Millions)', fontsize=12)\n",
    "        ax4.set_ylabel('mIoU (%)', fontsize=12)\n",
    "        ax4.set_title('Efficiency vs Performance', fontsize=14, fontweight='bold')\n",
    "        \n",
    "        # Add model labels\n",
    "        for i, name in enumerate(model_names):\n",
    "            ax4.annotate(name, (params[i], ious[i]), \n",
    "                        xytext=(5, 5), textcoords='offset points', fontsize=10)\n",
    "\n",
    "    plt.tight_layout()\n",
    "    plt.savefig('model_comparison.png', dpi=300, bbox_inches='tight')\n",
    "    plt.show()\n",
    "    \n",
    "    # Print detailed summary\n",
    "    print(\"\\n\" + \"=\"*60)\n",
    "    print(\"DETAILED TRAINING SUMMARY\")\n",
    "    print(\"=\"*60)\n",
    "    \n",
    "    complete_models = [m for m in results.keys() if results[m].get('final_epoch', 0) >= 15]\n",
    "    incomplete_models = [m for m in results.keys() if results[m].get('final_epoch', 0) < 15]\n",
    "    \n",
    "    if complete_models:\n",
    "        print(f\"COMPLETE TRAINING ({len(complete_models)} models):\")\n",
    "        for model in complete_models:\n",
    "            data = results[model]\n",
    "            params = data.get('total_parameters', 0) / 1e6\n",
    "            print(f\"   {model.upper()}: {data['best_iou']*100:.2f}% mIoU | {params:.1f}M params | {data['final_epoch']} epochs\")\n",
    "    \n",
    "    if incomplete_models:\n",
    "        print(f\"\\nINCOMPLETE TRAINING ({len(incomplete_models)} models):\")\n",
    "        for model in incomplete_models:\n",
    "            data = results[model]\n",
    "            epochs = data.get('final_epoch', 0)\n",
    "            params = data.get('total_parameters', 0) / 1e6\n",
    "            print(f\"   {model.upper()}: {data.get('best_iou', 0)*100:.2f}% mIoU | {params:.1f}M params | {epochs}/15 epochs\")\n",
    "        \n",
    "        print(f\"\\nTO COMPLETE TRAINING, RUN:\")\n",
    "        for model in incomplete_models:\n",
    "            print(f\"   subprocess.run(['python', 'scripts/train_baselines.py', '--model', '{model}', '--epochs', '15'])\")\n",
    "\n",
    "else:\n",
    "    print(\"No results found to visualize!\")\n",
    "    print(\"Make sure to run training first:\")\n",
    "    print(\"   All models: subprocess.run(['python', 'scripts/train_baselines.py', '--model', 'all', '--epochs', '15'])\")"
   ]
  },
  {
   "cell_type": "markdown",
   "id": "936973cd",
   "metadata": {
    "id": "936973cd"
   },
   "source": [
    "# Download Results"
   ]
  },
  {
   "cell_type": "code",
   "execution_count": null,
   "id": "b82e6ec2",
   "metadata": {
    "colab": {
     "base_uri": "https://localhost:8080/",
     "height": 191
    },
    "id": "b82e6ec2",
    "outputId": "864726b4-d3de-4414-ab76-b1161087fffb"
   },
   "outputs": [
    {
     "name": "stdout",
     "output_type": "stream",
     "text": [
      " Added ghanasegnet results to package\n",
      " Added segformer results to package\n",
      " Added deeplabv3plus results to package\n",
      " Added unet results to package\n",
      " Training summary not found\n",
      " Training log not found\n",
      " Results package created: ghanasegnet_results.zip\n",
      " Download this file to save your training results!\n"
     ]
    },
    {
     "data": {
      "application/javascript": "\n    async function download(id, filename, size) {\n      if (!google.colab.kernel.accessAllowed) {\n        return;\n      }\n      const div = document.createElement('div');\n      const label = document.createElement('label');\n      label.textContent = `Downloading \"${filename}\": `;\n      div.appendChild(label);\n      const progress = document.createElement('progress');\n      progress.max = size;\n      div.appendChild(progress);\n      document.body.appendChild(div);\n\n      const buffers = [];\n      let downloaded = 0;\n\n      const channel = await google.colab.kernel.comms.open(id);\n      // Send a message to notify the kernel that we're ready.\n      channel.send({})\n\n      for await (const message of channel.messages) {\n        // Send a message to notify the kernel that we're ready.\n        channel.send({})\n        if (message.buffers) {\n          for (const buffer of message.buffers) {\n            buffers.push(buffer);\n            downloaded += buffer.byteLength;\n            progress.value = downloaded;\n          }\n        }\n      }\n      const blob = new Blob(buffers, {type: 'application/binary'});\n      const a = document.createElement('a');\n      a.href = window.URL.createObjectURL(blob);\n      a.download = filename;\n      div.appendChild(a);\n      a.click();\n      div.remove();\n    }\n  ",
      "text/plain": [
       "<IPython.core.display.Javascript object>"
      ]
     },
     "metadata": {},
     "output_type": "display_data"
    },
    {
     "data": {
      "application/javascript": "download(\"download_940f6188-51f9-4489-8ff2-2a5d709bcbe4\", \"ghanasegnet_results.zip\", 967524439)",
      "text/plain": [
       "<IPython.core.display.Javascript object>"
      ]
     },
     "metadata": {},
     "output_type": "display_data"
    },
    {
     "name": "stdout",
     "output_type": "stream",
     "text": [
      " Training completed! Check your downloads for the results package.\n"
     ]
    }
   ],
   "source": [
    "# Create downloadable results package\n",
    "import zipfile\n",
    "\n",
    "def create_results_package():\n",
    "    with zipfile.ZipFile('ghanasegnet_results.zip', 'w') as zipf:\n",
    "        # Add model checkpoints (including GhanaSegNet V2)\n",
    "        for model in ['ghanasegnet', 'ghanasegnet_v2', 'segformer', 'deeplabv3plus', 'unet']:\n",
    "            try:\n",
    "                zipf.write(f'checkpoints/{model}/best_{model}.pth')\n",
    "                zipf.write(f'checkpoints/{model}/{model}_results.json')\n",
    "                print(f\"SUCCESS: Added {model} results to package\")\n",
    "            except FileNotFoundError:\n",
    "                print(f\"WARNING: {model} results not found\")\n",
    "\n",
    "        # Add training summary\n",
    "        try:\n",
    "            zipf.write('checkpoints/training_summary.json')\n",
    "            print(\"SUCCESS: Added training summary\")\n",
    "        except FileNotFoundError:\n",
    "            print(\"WARNING: Training summary not found\")\n",
    "\n",
    "        # Add training logs\n",
    "        try:\n",
    "            zipf.write('Training_Results_Log.md')\n",
    "            print(\"SUCCESS: Added training logs\")\n",
    "        except FileNotFoundError:\n",
    "            print(\"WARNING: Training logs not found\")\n",
    "\n",
    "        # Add comparison plot\n",
    "        try:\n",
    "            zipf.write('model_comparison.png')\n",
    "            print(\"SUCCESS: Added model comparison visualization\")\n",
    "        except FileNotFoundError:\n",
    "            print(\"WARNING: Comparison plot not available\")\n",
    "\n",
    "    print(\"\\nResearch package generated: ghanasegnet_results.zip\")\n",
    "    print(\"Package ready for download and analysis\")\n",
    "\n",
    "create_results_package()\n",
    "\n",
    "# Download the package\n",
    "from google.colab import files\n",
    "files.download('ghanasegnet_results.zip')\n",
    "\n",
    "print(\"\\nTraining protocol completed successfully\")\n",
    "print(f\"Total models evaluated: {len(results) if 'results' in locals() else 'N/A'}\")\n",
    "print(\"Package contents:\")\n",
    "print(\"  • Trained model weights (.pth files)\")  \n",
    "print(\"  • Performance metrics (.json files)\")\n",
    "print(\"  • Training configuration and logs\")\n",
    "print(\"  • Comparative analysis visualization\")\n",
    "\n",
    "# Final summary\n",
    "if 'results' in locals() and 'ghanasegnet_v2' in results:\n",
    "    v2_iou = results['ghanasegnet_v2']['best_iou'] * 100\n",
    "    print(f\"\\nGhanaSegNet V2 final performance: {v2_iou:.2f}% mIoU\")\n",
    "    print(\"Research artifacts prepared for academic presentation\")"
   ]
  }
 ],
 "metadata": {
  "accelerator": "GPU",
  "colab": {
   "gpuType": "A100",
   "include_colab_link": true,
   "provenance": []
  },
  "kernelspec": {
   "display_name": "Python 3",
   "name": "python3"
  },
  "language_info": {
   "name": "python"
  }
 },
 "nbformat": 4,
 "nbformat_minor": 5
}
