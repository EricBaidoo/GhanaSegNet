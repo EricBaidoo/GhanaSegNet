{
 "cells": [
  {
   "cell_type": "markdown",
   "id": "545f31b2",
   "metadata": {},
   "source": [
    "[![Open In Colab](https://colab.research.google.com/assets/colab-badge.svg)](https://colab.research.google.com/github/EricBaidoo/GhanaSegNet/blob/main/notebooks/ghanasegnet_enhanced_colab.ipynb)\n",
    "\n",
    "# GhanaSegNet (Enhanced) — Colab Run Notebook\n",
    "\n",
    "This notebook is tailored to run ONLY the enhanced `GhanaSegNet` model on Google Colab.\n",
    "It mounts Google Drive, copies or clones the repository, installs dependencies, checks GPU, runs the model readiness test, runs a short training sanity test (15 epochs), and saves outputs/checkpoints back to Drive.\n",
    "\n",
    "**Before running:**\n",
    "- Make sure your dataset is available in Google Drive and note the path (e.g. `/content/drive/MyDrive/dataset`).\n",
    "- Optionally set `REPO_URL` below if you want to clone this repository from GitHub. Otherwise copy the repo into Drive and set `DRIVE_REPO_PATH`.\n",
    "- Select *Runtime > Change runtime type* and pick GPU (preferably T4/P100/V100) for training."
   ]
  },
  {
   "cell_type": "code",
   "execution_count": null,
   "id": "ee0807ba",
   "metadata": {},
   "outputs": [],
   "source": [
    "# Mount Google Drive\n",
    "from google.colab import drive\n",
    "drive.mount('/content/drive')\n",
    "print('Drive mounted at /content/drive')"
   ]
  },
  {
   "cell_type": "code",
   "execution_count": null,
   "id": "89cce39d",
   "metadata": {},
   "outputs": [],
   "source": [
    "# Repo setup: either clone from GitHub or copy from Drive\n",
    "# Edit REPO_URL or DRIVE_REPO_PATH below to point to your repo location in Drive\n",
    "REPO_URL = ''  #@param {type: 'string'}\n",
    "DRIVE_REPO_PATH = '/content/drive/MyDrive/GhanaSegNet'  #@param {type: 'string'}\n",
    "import os, shutil, sys\n",
    "TARGET = '/content/GhanaSegNet'\n",
    "if REPO_URL:\n",
    "    print('Cloning from', REPO_URL)\n",
    "    !git clone {REPO_URL} {TARGET} || true\n",
    "else:\n",
    "    if os.path.exists(DRIVE_REPO_PATH):\n",
    "        if os.path.exists(TARGET):\n",
    "            shutil.rmtree(TARGET)\n",
    "        shutil.copytree(DRIVE_REPO_PATH, TARGET)\n",
    "        print('Copied repository from Drive:', DRIVE_REPO_PATH)\n",
    "    else:\n",
    "        print('ERROR: DRIVE_REPO_PATH not found. Either upload the repo to Drive or set REPO_URL to clone.')\n",
    "\n",
    "# Add repo to PYTHONPATH\n",
    "sys.path.append(TARGET)\n",
    "print('Repository is available at', TARGET)"
   ]
  },
  {
   "cell_type": "code",
   "execution_count": null,
   "id": "aae5d610",
   "metadata": {},
   "outputs": [],
   "source": [
    "# Install dependencies from repository requirements.txt (may take a few minutes)\n",
    "import os\n",
    "req = '/content/GhanaSegNet/requirements.txt'\n",
    "if os.path.exists(req):\n",
    "    print('Installing from', req)\n",
    "    !pip install -r {req}\n",
    "else:\n",
    "    print('requirements.txt not found in repo; you can pip install dependencies manually')\n",
    "\n",
    "# Print torch info (Colab usually has a compatible torch preinstalled)\n",
    "import torch\n",
    "print('PyTorch version:', torch.__version__)\n",
    "print('CUDA available:', torch.cuda.is_available())\n",
    "if torch.cuda.is_available():\n",
    "    print('Device name:', torch.cuda.get_device_name(torch.cuda.current_device()))"
   ]
  },
  {
   "cell_type": "code",
   "execution_count": null,
   "id": "d2df0f98",
   "metadata": {},
   "outputs": [],
   "source": [
    "# Quick environment checks and PYTHONPATH setup\n",
    "import sys, os\n",
    "ROOT = '/content/GhanaSegNet'\n",
    "if ROOT not in sys.path:\n",
    "    sys.path.insert(0, ROOT)\n",
    "os.environ['PYTHONPATH'] = ROOT + ':' + os.environ.get('PYTHONPATH', '')\n",
    "print('PYTHONPATH updated:', os.environ['PYTHONPATH'].split(':')[0])\n",
    "\n",
    "# Confirm we can import the enhanced model and test scripts\n",
    "try:\n",
    "    from models.ghanasegnet import GhanaSegNet\n",
    "    print('✅ Imported GhanaSegNet')\n",
    "except Exception as e:\n",
    "    print('❌ Import error:', e)"
   ]
  },
  {
   "cell_type": "code",
   "execution_count": null,
   "id": "e23117e0",
   "metadata": {},
   "outputs": [],
   "source": [
    "# Run the pre-made readiness test (creates model, runs forward pass and prints parameter count)\n",
    "print('Running readiness test...')\n",
    "!python /content/GhanaSegNet/test_enhanced_architecture.py"
   ]
  },
  {
   "cell_type": "code",
   "execution_count": null,
   "id": "202e57c3",
   "metadata": {},
   "outputs": [],
   "source": [
    "# QUICK TRAIN: run a short 15-epoch sanity training run for the enhanced model\n",
    "# Edit DATA_DIR to point to your dataset in Drive (ensure GhanaFoodDataset loader uses this path)\n",
    "DATA_DIR = '/content/drive/MyDrive/dataset'  #@param {type: 'string'}\n",
    "print('Using dataset path:', DATA_DIR)\n",
    "\n",
    "# Change working directory to the repo root so imports like `data.dataset_loader` resolve correctly\n",
    "import os, sys, subprocess\n",
    "repo_dir = '/content/GhanaSegNet'\n",
    "if os.path.exists(repo_dir):\n",
    "    os.chdir(repo_dir)\n",
    "    print('Changed CWD to', repo_dir)\n",
    "else:\n",
    "    print('ERROR: repo directory not found at', repo_dir)\n",
    "    raise SystemExit(1)\n",
    "\n",
    "# Build and run the training command (uses Python execution from repo root)\n",
    "cmd = [sys.executable, 'scripts/train_baselines.py', '--model', 'ghanasegnet', '--epochs', '15', '--dataset_path', DATA_DIR, '--device', 'cuda']\n",
    "print('Running:', ' '.join(cmd))\n",
    "ret = subprocess.call(cmd)\n",
    "if ret != 0:\n",
    "    print('Training script exited with code', ret)\n",
    "    raise SystemExit(ret)\n",
    "else:\n",
    "    print('Training completed (or exited 0)')"
   ]
  },
  {
   "cell_type": "markdown",
   "id": "259a829d",
   "metadata": {},
   "source": [
    "## After the quick test\n",
    "- If the quick 15-epoch run succeeds and logs look good, run the full benchmark:  `--epochs 80`.\n",
    "- To save checkpoints and logs to Drive, create a folder (e.g. `/content/drive/MyDrive/GhanaSegNet_outputs`) and copy the `outputs/` or `checkpoints/` folder there.\n",
    "\n",
    "Example full-run command (change dataset path and device as needed):\n",
    "```bash\n",
    "python /content/GhanaSegNet/scripts/train_baselines.py --model ghanasegnet --epochs 80 --dataset_path /content/drive/MyDrive/dataset --device cuda\n",
    "```"
   ]
  },
  {
   "cell_type": "code",
   "execution_count": null,
   "id": "9b22bc1a",
   "metadata": {},
   "outputs": [],
   "source": [
    "# OPTIONAL: copy outputs to Drive after run (adjust paths if your script writes elsewhere)\n",
    "OUT_DIR = '/content/drive/MyDrive/GhanaSegNet_outputs'\n",
    "import os, shutil\n",
    "os.makedirs(OUT_DIR, exist_ok=True)\n",
    "print('Copying outputs to', OUT_DIR)\n",
    "if os.path.exists('/content/GhanaSegNet/outputs'):\n",
    "    for item in os.listdir('/content/GhanaSegNet/outputs'):\n",
    "        src = os.path.join('/content/GhanaSegNet/outputs', item)\n",
    "        dst = os.path.join(OUT_DIR, item)\n",
    "        if os.path.isdir(src):\n",
    "            shutil.copytree(src, dst, dirs_exist_ok=True)\n",
    "        else:\n",
    "            shutil.copy2(src, dst)\n",
    "    print('Outputs copied.')\n",
    "else:\n",
    "    print('No outputs directory found at /content/GhanaSegNet/outputs')"
   ]
  },
  {
   "cell_type": "markdown",
   "id": "aa51b265",
   "metadata": {},
   "source": [
    "### Notes & Troubleshooting\n",
    "- If `pip install -r requirements.txt` fails due to CUDA mismatch, install a colab-friendly torch wheel first (e.g., `pip install torch torchvision --index-url https://download.pytorch.org/whl/cu118`).\n",
    "- If your dataset loader expects a different folder layout, either modify `DATA_DIR` or edit `scripts/train_baselines.py` to point to the correct path.\n",
    "- Use *Runtime > Restart runtime and run all* if you change installed packages."
   ]
  }
 ],
 "metadata": {
  "language_info": {
   "name": "python"
  }
 },
 "nbformat": 4,
 "nbformat_minor": 5
}
