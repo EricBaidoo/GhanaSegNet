# Visual comparison of predictions vs ground truth

import torch
import matplotlib.pyplot as plt
import numpy as np
from torchvision import transforms
from torch.utils.data import DataLoader

from models.ghanasegnet import GhanaSegNet
from datasets.dataset_loader import GhanaFoodDataset

device = torch.device('cuda' if torch.cuda.is_available() else 'cpu')

model = GhanaSegNet(num_classes=6).to(device)
model.load_state_dict(torch.load("checkpoints/best_model.pth", map_location=device))
model.eval()

# Define the dataset and dataloader

transform = transforms.Compose([
    transforms.Resize((256, 256)),
    transforms.ToTensor()
])

dataset = GhanaFoodDataset(split='test')
dataloader = DataLoader(dataset, batch_size=1, shuffle=True)


# Assign each class a color: e.g., [rice, beans, stew, veg, meat, background]
CLASS_COLORS = np.array([
    [255, 255, 255],   # Background - white
    [255, 0, 0],       # Class 1 - red
    [0, 255, 0],       # Class 2 - green
    [0, 0, 255],       # Class 3 - blue
    [255, 255, 0],     # Class 4 - yellow
    [255, 0, 255],     # Class 5 - magenta
    [0, 255, 255]      # Class 6 - cyan (optional)
])

def decode_segmap(mask):
    rgb = np.zeros((mask.shape[0], mask.shape[1], 3), dtype=np.uint8)
    for cls in range(len(CLASS_COLORS)):
        rgb[mask == cls] = CLASS_COLORS[cls]
    return rgb


    # Run one batch
for image, mask in dataloader:
    image = image.to(device)
    output = model(image)
    pred = torch.argmax(output, dim=1).squeeze().cpu().numpy()
    
    # Decode masks
    image_np = image.squeeze().permute(1, 2, 0).cpu().numpy()
    image_np = (image_np * 255).astype(np.uint8)

    gt_mask = decode_segmap(mask.squeeze().numpy())
    pred_mask = decode_segmap(pred)

    # Plot
    plt.figure(figsize=(15, 5))
    plt.subplot(1, 3, 1)
    plt.imshow(image_np)
    plt.title('Original Image')

    plt.subplot(1, 3, 2)
    plt.imshow(gt_mask)
    plt.title('Ground Truth Mask')

    plt.subplot(1, 3, 3)
    plt.imshow(pred_mask)
    plt.title('Predicted Mask')
    plt.show()

    break  # remove to loop through more samples

