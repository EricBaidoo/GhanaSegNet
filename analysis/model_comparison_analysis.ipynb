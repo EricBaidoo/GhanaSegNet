{
 "cells": [
  {
   "cell_type": "markdown",
   "id": "6f2e9377",
   "metadata": {},
   "source": [
    "# Model Comparison Analysis\n",
    "This notebook loads segmentation results for DeepLabV3+, GhanaSegNet, SegFormer, and UNet, visualizes training metrics, and summarizes key findings."
   ]
  },
  {
   "cell_type": "code",
   "execution_count": null,
   "id": "5eff98ff",
   "metadata": {},
   "outputs": [],
   "source": [
    "!pip install matplotlib\n",
    "import json\n",
    "import os\n",
    "import matplotlib.pyplot as plt"
   ]
  },
  {
   "cell_type": "markdown",
   "id": "76a0c784",
   "metadata": {},
   "source": [
    "## Load Results\n",
    "Update the path below if running in Colab."
   ]
  },
  {
   "cell_type": "code",
   "execution_count": null,
   "id": "e652790b",
   "metadata": {},
   "outputs": [],
   "source": [
    "RESULTS_DIR = 'results'  # Change if needed\n",
    "FILES = [\n",
    "    'deeplabv3plus_results.json',\n",
    "    'ghanasegnet_results.json',\n",
    "    'segformer_results.json',\n",
    "    'unet_results.json'\n",
    "]\n",
    "models = []\n",
    "for fname in FILES:\n",
    "    with open(os.path.join(RESULTS_DIR, fname), 'r') as f:\n",
    "        models.append(json.load(f))"
   ]
  },
  {
   "cell_type": "markdown",
   "id": "b06088b9",
   "metadata": {},
   "source": [
    "## Plot Training Metrics\n",
    "Visualize IoU, loss, and accuracy for each model."
   ]
  },
  {
   "cell_type": "code",
   "execution_count": null,
   "id": "3647ca78",
   "metadata": {},
   "outputs": [],
   "source": [
    "metrics = ['val_iou', 'val_loss', 'val_accuracy']\n",
    "for metric in metrics:\n",
    "    plt.figure(figsize=(8, 5))\n",
    "    for m in models:\n",
    "        epochs = [h['epoch'] for h in m['training_history']]\n",
    "        values = [h[metric] for h in m['training_history']]\n",
    "        plt.plot(epochs, values, label=m['model_name'])\n",
    "    plt.xlabel('Epoch')\n",
    "    plt.ylabel(metric.replace('_', ' ').title())\n",
    "    plt.title(f'{metric.replace('_', ' ').title()} Over Epochs')\n",
    "    plt.legend()\n",
    "    plt.tight_layout()\n",
    "    plt.show()"
   ]
  },
  {
   "cell_type": "markdown",
   "id": "0911df64",
   "metadata": {},
   "source": [
    "## Model Comparison Summary"
   ]
  },
  {
   "cell_type": "code",
   "execution_count": null,
   "id": "23a20f31",
   "metadata": {},
   "outputs": [],
   "source": [
    "for m in models:\n",
    "    print(f'Model: {m[model_name]}')\n",
    "    print(f'  Best IoU: {m[best_iou]:.4f}')\n",
    "    print(f'  Final Epoch: {m[final_epoch]}')\n",
    "    print(f'  Parameters: {m[trainable_parameters]:,}')\n",
    "    print()"
   ]
  },
  {
   "cell_type": "markdown",
   "id": "d33724b2",
   "metadata": {},
   "source": [
    "### Thesis-Ready Comparative Summary\n",
    "The comparative analysis of four segmentation models—DeepLabV3+, GhanaSegNet, SegFormer, and UNet—reveals distinct performance characteristics. DeepLabV3+ achieved the highest IoU (0.2544), indicating superior segmentation accuracy, but it is also the most parameter-heavy. GhanaSegNet, while slightly trailing in IoU (0.2447), is significantly more parameter-efficient, making it attractive for resource-constrained applications. SegFormer and UNet plateaued early, suggesting limited learning capacity or data/model constraints under current settings. All models were trained under identical conditions for fairness. The results highlight GhanaSegNet’s competitive performance and efficiency, with recommendations to further improve its accuracy through advanced augmentation, loss functions, or architectural refinements. Future work may explore deeper architectures, alternative backbones, or larger datasets to enhance segmentation outcomes."
   ]
  }
 ],
 "metadata": {
  "language_info": {
   "name": "python"
  }
 },
 "nbformat": 4,
 "nbformat_minor": 5
}
