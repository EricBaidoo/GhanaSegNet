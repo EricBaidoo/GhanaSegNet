{
 "cells": [
  {
   "cell_type": "markdown",
   "id": "4fbbd48c",
   "metadata": {},
   "source": [
    "## Upload Your Results Files First\n",
    "Before running the analysis, use the cell below to upload your JSON result files (`deeplabv3plus_results.json`, `ghanasegnet_results.json`, `segformer_results.json`, `unet_results.json`).\n",
    "\n",
    "Click the \"Choose Files\" button when you run the upload cell and select all four files."
   ]
  },
  {
   "cell_type": "markdown",
   "id": "c364a078",
   "metadata": {},
   "source": [
    "[![Open In Colab](https://colab.research.google.com/assets/colab-badge.svg)](https://colab.research.google.com/github/EricBaidoo/GhanaSegNet/blob/main/analysis/model_comparison_analysis.ipynb)\n",
    "\n",
    "# Model Comparison Analysis\n",
    "This notebook loads segmentation results for DeepLabV3+, GhanaSegNet, SegFormer, and UNet, visualizes training metrics, and summarizes key findings."
   ]
  },
  {
   "cell_type": "code",
   "execution_count": null,
   "id": "5eff98ff",
   "metadata": {},
   "outputs": [],
   "source": [
    "# Install required libraries\n",
    "!pip install matplotlib"
   ]
  },
  {
   "cell_type": "code",
   "execution_count": null,
   "id": "e652790b",
   "metadata": {},
   "outputs": [],
   "source": [
    "# Load results\n",
    "import json\n",
    "import matplotlib.pyplot as plt\n",
    "\n",
    "FILES = [\n",
    "    'deeplabv3plus_results.json',\n",
    "    'ghanasegnet_results.json',\n",
    "    'segformer_results.json',\n",
    "    'unet_results.json'\n",
    "]\n",
    "models = []\n",
    "for fname in FILES:\n",
    "    with open(fname, 'r') as f:\n",
    "        models.append(json.load(f))"
   ]
  },
  {
   "cell_type": "code",
   "execution_count": null,
   "id": "3647ca78",
   "metadata": {},
   "outputs": [],
   "source": [
    "# Plot training metrics\n",
    "metrics = ['val_iou', 'val_loss', 'val_accuracy']\n",
    "for metric in metrics:\n",
    "    plt.figure(figsize=(8, 5))\n",
    "    for m in models:\n",
    "        epochs = [h['epoch'] for h in m['training_history']]\n",
    "        values = [h[metric] for h in m['training_history']]\n",
    "        plt.plot(epochs, values, label=m['model_name'])\n",
    "    plt.xlabel('Epoch')\n",
    "    plt.ylabel(metric.replace('_', ' ').title())\n",
    "    plt.title(f'{metric.replace('_', ' ').title()} Over Epochs')\n",
    "    plt.legend()\n",
    "    plt.tight_layout()\n",
    "    plt.show()"
   ]
  },
  {
   "cell_type": "code",
   "execution_count": null,
   "id": "23a20f31",
   "metadata": {},
   "outputs": [],
   "source": [
    "# Model comparison summary\n",
    "for m in models:\n",
    "    print(f\"Model: {m['model_name']}\")\n",
    "    print(f\"  Best IoU: {m['best_iou']:.4f}\")\n",
    "    print(f\"  Final Epoch: {m['final_epoch']}\")\n",
    "    print(f\"  Parameters: {m['trainable_parameters']:,}\")\n",
    "    print()"
   ]
  },
  {
   "cell_type": "code",
   "execution_count": null,
   "id": "b7cea9fd",
   "metadata": {},
   "outputs": [],
   "source": [
    "# Upload results files (Colab only)\n",
    "from google.colab import files\n",
    "uploaded = files.upload()"
   ]
  },
  {
   "cell_type": "code",
   "execution_count": null,
   "id": "8e8f349e",
   "metadata": {},
   "outputs": [],
   "source": [
    "# Load results\n",
    "import json\n",
    "import matplotlib.pyplot as plt\n",
    "\n",
    "FILES = [\n",
    "    'deeplabv3plus_results.json',\n",
    "    'ghanasegnet_results.json',\n",
    "    'segformer_results.json',\n",
    "    'unet_results.json'\n",
    "]\n",
    "models = []\n",
    "for fname in FILES:\n",
    "    with open(fname, 'r') as f:\n",
    "        models.append(json.load(f))"
   ]
  },
  {
   "cell_type": "code",
   "execution_count": null,
   "id": "9168989c",
   "metadata": {},
   "outputs": [],
   "source": [
    "# Plot training metrics\n",
    "metrics = ['val_iou', 'val_loss', 'val_accuracy']\n",
    "for metric in metrics:\n",
    "    plt.figure(figsize=(8, 5))\n",
    "    for m in models:\n",
    "        epochs = [h['epoch'] for h in m['training_history']]\n",
    "        values = [h[metric] for h in m['training_history']]\n",
    "        plt.plot(epochs, values, label=m['model_name'])\n",
    "    plt.xlabel('Epoch')\n",
    "    plt.ylabel(metric.replace('_', ' ').title())\n",
    "    plt.title(f'{metric.replace('_', ' ').title()} Over Epochs')\n",
    "    plt.legend()\n",
    "    plt.tight_layout()\n",
    "    plt.show()"
   ]
  },
  {
   "cell_type": "code",
   "execution_count": null,
   "id": "9011217d",
   "metadata": {},
   "outputs": [],
   "source": [
    "# Model comparison summary\n",
    "for m in models:\n",
    "    print(f\"Model: {m['model_name']}\")\n",
    "    print(f\"  Best IoU: {m['best_iou']:.4f}\")\n",
    "    print(f\"  Final Epoch: {m['final_epoch']}\")\n",
    "    print(f\"  Parameters: {m['trainable_parameters']:,}\")\n",
    "    print()"
   ]
  },
  {
   "cell_type": "markdown",
   "id": "751d5a92",
   "metadata": {},
   "source": [
    "### Thesis-Ready Comparative Summary\n",
    "The comparative analysis of four segmentation models—DeepLabV3+, GhanaSegNet, SegFormer, and UNet—reveals distinct performance characteristics. DeepLabV3+ achieved the highest IoU (0.2544), indicating superior segmentation accuracy, but it is also the most parameter-heavy. GhanaSegNet, while slightly trailing in IoU (0.2447), is significantly more parameter-efficient, making it attractive for resource-constrained applications. SegFormer and UNet plateaued early, suggesting limited learning capacity or data/model constraints under current settings. All models were trained under identical conditions for fairness. The results highlight GhanaSegNet’s competitive performance and efficiency, with recommendations to further improve its accuracy through advanced augmentation, loss functions, or architectural refinements. Future work may explore deeper architectures, alternative backbones, or larger datasets to enhance segmentation outcomes."
   ]
  }
 ],
 "metadata": {
  "language_info": {
   "name": "python"
  }
 },
 "nbformat": 4,
 "nbformat_minor": 5
}
