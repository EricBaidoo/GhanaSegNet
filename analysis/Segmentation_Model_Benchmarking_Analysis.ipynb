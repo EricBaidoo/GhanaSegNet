{
 "cells": [
  {
   "cell_type": "markdown",
   "id": "7552e8f5",
   "metadata": {},
   "source": [
    "# Segmentation Model Benchmarking & Comparative Analysis\n",
    "\n",
    "This notebook provides a professional workflow for benchmarking and comparing segmentation models (DeepLabV3+, GhanaSegNet, SegFormer, UNet) on Ghanaian food image datasets. It includes file upload, metric visualization, and thesis-ready summary."
   ]
  },
  {
   "cell_type": "markdown",
   "id": "b7117207",
   "metadata": {},
   "source": [
    "## Upload Your Results Files\n",
    "Before running the analysis, use the cell below to upload your JSON result files (`deeplabv3plus_results.json`, `ghanasegnet_results.json`, `segformer_results.json`, `unet_results.json`).\n",
    "Click the \"Choose Files\" button when you run the upload cell and select all four files."
   ]
  },
  {
   "cell_type": "markdown",
   "id": "02cf3fc8",
   "metadata": {},
   "source": [
    "[![Open In Colab](https://colab.research.google.com/assets/colab-badge.svg)](https://colab.research.google.com/github/EricBaidoo/GhanaSegNet/blob/main/analysis/Segmentation_Model_Benchmarking_Analysis.ipynb)\n",
    "\n",
    "---"
   ]
  },
  {
   "cell_type": "code",
   "execution_count": null,
   "id": "422679ec",
   "metadata": {},
   "outputs": [],
   "source": [
    "# Install required libraries\n",
    "!pip install matplotlib"
   ]
  },
  {
   "cell_type": "code",
   "execution_count": null,
   "id": "f48a8a6d",
   "metadata": {},
   "outputs": [],
   "source": [
    "# Upload results files (Colab only)\n",
    "from google.colab import files\n",
    "uploaded = files.upload()"
   ]
  },
  {
   "cell_type": "code",
   "execution_count": null,
   "id": "2fa6b552",
   "metadata": {},
   "outputs": [],
   "source": [
    "# Load results\n",
    "import json\n",
    "import matplotlib.pyplot as plt\n",
    "\n",
    "FILES = [\n",
    "    'deeplabv3plus_results.json',\n",
    "    'ghanasegnet_results.json',\n",
    "    'segformer_results.json',\n",
    "    'unet_results.json'\n",
    " ]\n",
    "models = []\n",
    "for fname in FILES:\n",
    "    with open(fname, 'r') as f:\n",
    "        models.append(json.load(f))"
   ]
  },
  {
   "cell_type": "code",
   "execution_count": null,
   "id": "5d1d3b1e",
   "metadata": {},
   "outputs": [],
   "source": [
    "# Plot training metrics\n",
    "metrics = ['val_iou', 'val_loss', 'val_accuracy']\n",
    "for metric in metrics:\n",
    "    plt.figure(figsize=(8, 5))\n",
    "    for m in models:\n",
    "        epochs = [h['epoch'] for h in m['training_history']]\n",
    "        values = [h[metric] for h in m['training_history']]\n",
    "        plt.plot(epochs, values, label=m['model_name'])\n",
    "    plt.xlabel('Epoch')\n",
    "    plt.ylabel(metric.replace('_', ' ').title())\n",
    "    plt.title(f'{metric.replace('_', ' ').title()} Over Epochs')\n",
    "    plt.legend()\n",
    "    plt.tight_layout()\n",
    "    plt.show()"
   ]
  },
  {
   "cell_type": "code",
   "execution_count": null,
   "id": "4e70dc49",
   "metadata": {},
   "outputs": [],
   "source": [
    "# Model comparison summary\n",
    "for m in models:\n",
    "    print(f\"Model: {m['model_name']}\")\n",
    "    print(f\"  Best IoU: {m['best_iou']:.4f}\")\n",
    "    print(f\"  Final Epoch: {m['final_epoch']}\")\n",
    "    print(f\"  Parameters: {m['trainable_parameters']:,}\")\n",
    "    print()"
   ]
  },
  {
   "cell_type": "markdown",
   "id": "c26f00e0",
   "metadata": {},
   "source": [
    "### Thesis-Ready Comparative Summary\n",
    "The comparative analysis of four segmentation models—DeepLabV3+, GhanaSegNet, SegFormer, and UNet—reveals distinct performance characteristics. DeepLabV3+ achieved the highest IoU (0.2544), indicating superior segmentation accuracy, but it is also the most parameter-heavy. GhanaSegNet, while slightly trailing in IoU (0.2447), is significantly more parameter-efficient, making it attractive for resource-constrained applications. SegFormer and UNet plateaued early, suggesting limited learning capacity or data/model constraints under current settings. All models were trained under identical conditions for fairness. The results highlight GhanaSegNet’s competitive performance and efficiency, with recommendations to further improve its accuracy through advanced augmentation, loss functions, or architectural refinements. Future work may explore deeper architectures, alternative backbones, or larger datasets to enhance segmentation outcomes."
   ]
  },
  {
   "cell_type": "markdown",
   "id": "b681bf19",
   "metadata": {},
   "source": [
    "## Comprehensive Model Analysis for Master’s Thesis\n",
    "This section expands the analysis to meet the standards of a master’s thesis, including quantitative tables, statistical analysis, qualitative results, resource usage, and recommendations."
   ]
  },
  {
   "cell_type": "markdown",
   "id": "3eaad442",
   "metadata": {},
   "source": [
    "### 1. Quantitative Metrics Table\n",
    "Below, we summarize the key metrics for each model, including IoU, accuracy, loss, parameter count, training time, and inference speed."
   ]
  },
  {
   "cell_type": "code",
   "execution_count": null,
   "id": "58facfe7",
   "metadata": {},
   "outputs": [],
   "source": [
    "# Create a summary table of key metrics for each model\n",
    "import pandas as pd\n",
    "metrics_data = []\n",
    "for m in models:\n",
    "    metrics_data.append({\n",
    "        'Model': m['model_name'],\n",
    "        'Best IoU': m['best_iou'],\n",
    "        'Final Accuracy': m.get('final_accuracy', None),\n",
    "        'Final Loss': m.get('final_loss', None),\n",
    "        'Parameters': m['trainable_parameters'],\n",
    "        'Training Time (s)': m.get('training_time', None),\n",
    "        'Inference Speed (img/s)': m.get('inference_speed', None)\n",
    "    })\n",
    "df_metrics = pd.DataFrame(metrics_data)\n",
    "df_metrics"
   ]
  },
  {
   "cell_type": "markdown",
   "id": "cb06d674",
   "metadata": {},
   "source": [
    "### 2. Statistical Analysis of Metrics\n",
    "We compute mean, standard deviation, and (if available) confidence intervals for the main metrics."
   ]
  },
  {
   "cell_type": "code",
   "execution_count": null,
   "id": "bd15d0a5",
   "metadata": {},
   "outputs": [],
   "source": [
    "# Compute statistics for IoU and accuracy (if multiple runs are available)\n",
    "if 'runs' in models[0]:\n",
    "    iou_stats = {}\n",
    "    for m in models:\n",
    "        ious = [run['best_iou'] for run in m['runs']]\n",
    "        iou_stats[m['model_name']] = {\n",
    "            'mean': np.mean(ious),\n",
    "            'std': np.std(ious),\n",
    "            '95% CI': 1.96 * np.std(ious) / np.sqrt(len(ious))\n",
    "        }\n",
    "    pd.DataFrame(iou_stats).T\n",
    "else:\n",
    "    print('Multiple runs not available for statistical analysis.')"
   ]
  },
  {
   "cell_type": "markdown",
   "id": "419d9acb",
   "metadata": {},
   "source": [
    "### 3. Qualitative Results: Visual Comparison\n",
    "Below, we visualize sample predictions from each model for qualitative comparison."
   ]
  },
  {
   "cell_type": "code",
   "execution_count": null,
   "id": "4caffdaf",
   "metadata": {},
   "outputs": [],
   "source": [
    "# Visualize sample predictions (requires prediction images or arrays in your results)\n",
    "import matplotlib.pyplot as plt\n",
    "import numpy as np\n",
    "def plot_predictions(model, sample_idx=0):\n",
    "    if 'sample_predictions' in model:\n",
    "        preds = model['sample_predictions'][sample_idx]\n",
    "        fig, axs = plt.subplots(1, len(preds), figsize=(15, 5))\n",
    "        for i, (title, img) in enumerate(preds.items()):\n",
    "            axs[i].imshow(img, cmap='gray')\n",
    "            axs[i].set_title(title)\n",
    "            axs[i].axis('off')\n",
    "        plt.suptitle(f\"{model['model_name']} - Sample {sample_idx}\")\n",
    "        plt.show()\n",
    "    else:\n",
    "        print(f\"No sample predictions found for {model['model_name']}\")\n",
    "\n",
    "# Example: plot_predictions(models[0], sample_idx=0)"
   ]
  },
  {
   "cell_type": "markdown",
   "id": "2be4bef0",
   "metadata": {},
   "source": [
    "### 4. Learning Curves and Overfitting Analysis\n",
    "We plot training and validation curves to assess convergence and overfitting."
   ]
  },
  {
   "cell_type": "code",
   "execution_count": null,
   "id": "38275511",
   "metadata": {},
   "outputs": [],
   "source": [
    "# Plot training and validation curves for each model\n",
    "for m in models:\n",
    "    epochs = [h['epoch'] for h in m['training_history']]\n",
    "    val_iou = [h['val_iou'] for h in m['training_history']]\n",
    "    train_iou = [h.get('train_iou', None) for h in m['training_history']]\n",
    "    val_loss = [h['val_loss'] for h in m['training_history']]\n",
    "    train_loss = [h.get('train_loss', None) for h in m['training_history']]\n",
    "    plt.figure(figsize=(12, 4))\n",
    "    plt.subplot(1, 2, 1)\n",
    "    plt.plot(epochs, val_iou, label='Val IoU')\n",
    "    if all(v is not None for v in train_iou):\n",
    "        plt.plot(epochs, train_iou, label='Train IoU')\n",
    "    plt.xlabel('Epoch')\n",
    "    plt.ylabel('IoU')\n",
    "    plt.title(f'{m[\"model_name\"]} IoU Curves')\n",
    "    plt.legend()\n",
    "    plt.subplot(1, 2, 2)\n",
    "    plt.plot(epochs, val_loss, label='Val Loss')\n",
    "    if all(v is not None for v in train_loss):\n",
    "        plt.plot(epochs, train_loss, label='Train Loss')\n",
    "    plt.xlabel('Epoch')\n",
    "    plt.ylabel('Loss')\n",
    "    plt.title(f'{m[\"model_name\"]} Loss Curves')\n",
    "    plt.legend()\n",
    "    plt.tight_layout()\n",
    "    plt.show()"
   ]
  },
  {
   "cell_type": "markdown",
   "id": "9e48a747",
   "metadata": {},
   "source": [
    "### 5. Resource Usage Analysis\n",
    "We compare models in terms of parameter count, memory usage, and inference speed."
   ]
  },
  {
   "cell_type": "code",
   "execution_count": null,
   "id": "a4ebbcec",
   "metadata": {},
   "outputs": [],
   "source": [
    "# Display resource usage table (parameters, memory, speed)\n",
    "resource_data = []\n",
    "for m in models:\n",
    "    resource_data.append({\n",
    "        'Model': m['model_name'],\n",
    "        'Parameters': m['trainable_parameters'],\n",
    "        'Memory (MB)': m.get('memory_usage', None),\n",
    "        'Inference Speed (img/s)': m.get('inference_speed', None)\n",
    "    })\n",
    "df_resource = pd.DataFrame(resource_data)\n",
    "df_resource"
   ]
  },
  {
   "cell_type": "markdown",
   "id": "89fe6425",
   "metadata": {},
   "source": [
    "### 6. Discussion and Recommendations\n",
    "We interpret the results, discuss limitations, and provide recommendations for future work and deployment."
   ]
  }
 ],
 "metadata": {
  "language_info": {
   "name": "python"
  }
 },
 "nbformat": 4,
 "nbformat_minor": 5
}
