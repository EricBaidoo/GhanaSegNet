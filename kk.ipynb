{
 "cells": [
  {
   "cell_type": "code",
   "execution_count": null,
   "id": "ee28476f",
   "metadata": {
    "vscode": {
     "languageId": "plaintext"
    }
   },
   "outputs": [],
   "source": [
    "from datasets.dataset_loader import GhanaFoodDataset\n",
    "import matplotlib.pyplot as plt\n",
    "import torchvision.transforms as T\n",
    "\n",
    "# Load dataset from 'data/train'\n",
    "dataset = GhanaFoodDataset(root_dir='data/train')\n",
    "\n",
    "# Get the first image and its mask\n",
    "image, mask = dataset[0]\n",
    "\n",
    "# Plot the image and mask side by side\n",
    "plt.figure(figsize=(10, 4))\n",
    "\n",
    "plt.subplot(1, 2, 1)\n",
    "plt.title(\"Sample Image\")\n",
    "plt.imshow(image.permute(1, 2, 0))  # Convert CHW to HWC for matplotlib\n",
    "plt.axis('off')\n",
    "\n",
    "plt.subplot(1, 2, 2)\n",
    "plt.title(\"Corresponding Mask\")\n",
    "plt.imshow(mask, cmap='gray')  # Show grayscale mask\n",
    "plt.axis('off')\n",
    "\n",
    "plt.show()\n"
   ]
  }
 ],
 "metadata": {
  "language_info": {
   "name": "python"
  }
 },
 "nbformat": 4,
 "nbformat_minor": 5
}
