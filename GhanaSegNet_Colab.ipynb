{
  "cells": [
    {
      "cell_type": "markdown",
      "metadata": {
        "id": "view-in-github",
        "colab_type": "text"
      },
      "source": [
        "<a href=\"https://colab.research.google.com/github/EricBaidoo/GhanaSegNet/blob/main/GhanaSegNet_Colab.ipynb\" target=\"_parent\"><img src=\"https://colab.research.google.com/assets/colab-badge.svg\" alt=\"Open In Colab\"/></a>"
      ]
    },
    {
      "cell_type": "markdown",
      "id": "d998c88f",
      "metadata": {
        "id": "d998c88f"
      },
      "source": [
        "# GhanaSegNet Colab Training Notebook\n",
        "\n",
        "This notebook sets up your environment, installs dependencies, and runs your baseline training script for UNet, DeepLabV3+, and SegFormer-B0 on Colab GPU.\n",
        "\n",
        "## Setup Instructions:\n",
        "1. Run each cell in order\n",
        "2. Make sure GPU is enabled: Runtime > Change runtime type > Hardware accelerator > GPU\n",
        "3. Your data should be uploaded to Google Drive or included in your GitHub repo"
      ]
    },
    {
      "cell_type": "code",
      "execution_count": 1,
      "id": "52b4adc6",
      "metadata": {
        "colab": {
          "base_uri": "https://localhost:8080/"
        },
        "id": "52b4adc6",
        "outputId": "14a04b5e-bca2-47a7-fb6c-e625014e6d60"
      },
      "outputs": [
        {
          "output_type": "stream",
          "name": "stdout",
          "text": [
            "Mounted at /content/drive\n",
            "CUDA available: True\n",
            "GPU: NVIDIA A100-SXM4-40GB\n"
          ]
        }
      ],
      "source": [
        "# Mount Google Drive (if your data is stored there)\n",
        "from google.colab import drive\n",
        "drive.mount('/content/drive')\n",
        "\n",
        "# Check GPU availability\n",
        "import torch\n",
        "print(f\"CUDA available: {torch.cuda.is_available()}\")\n",
        "if torch.cuda.is_available():\n",
        "    print(f\"GPU: {torch.cuda.get_device_name(0)}\")\n",
        "else:\n",
        "    print(\"No GPU detected - switch to GPU runtime!\")"
      ]
    },
    {
      "cell_type": "code",
      "execution_count": 2,
      "id": "6ceb2350",
      "metadata": {
        "colab": {
          "base_uri": "https://localhost:8080/"
        },
        "id": "6ceb2350",
        "outputId": "16d5a3d4-c941-48ba-c2f2-aa2391662c85"
      },
      "outputs": [
        {
          "output_type": "stream",
          "name": "stdout",
          "text": [
            "Cloning into 'GhanaSegNet'...\n",
            "remote: Enumerating objects: 5567, done.\u001b[K\n",
            "remote: Counting objects: 100% (136/136), done.\u001b[K\n",
            "remote: Compressing objects: 100% (92/92), done.\u001b[K\n",
            "remote: Total 5567 (delta 69), reused 98 (delta 43), pack-reused 5431 (from 2)\u001b[K\n",
            "Receiving objects: 100% (5567/5567), 701.56 MiB | 17.01 MiB/s, done.\n",
            "Resolving deltas: 100% (90/90), done.\n",
            "/content/GhanaSegNet\n",
            "total 204\n",
            "drwxr-xr-x 7 root root  4096 Sep 14 17:10 .\n",
            "drwxr-xr-x 1 root root  4096 Sep 14 17:10 ..\n",
            "-rw-r--r-- 1 root root  3692 Sep 14 17:10 cleanup_repo.py\n",
            "-rw-r--r-- 1 root root  6024 Sep 14 17:10 colab_training_cells.py\n",
            "-rw-r--r-- 1 root root 83713 Sep 14 17:10 GhanaSegNet_Colab.ipynb\n",
            "drwxr-xr-x 8 root root  4096 Sep 14 17:10 .git\n",
            "-rw-r--r-- 1 root root   627 Sep 14 17:10 .gitignore\n",
            "-rw-r--r-- 1 root root 57714 Sep 14 17:10 image.png\n",
            "-rw-r--r-- 1 root root    30 Sep 14 17:10 LICENSE\n",
            "drwxr-xr-x 2 root root  4096 Sep 14 17:10 models\n",
            "drwxr-xr-x 2 root root  4096 Sep 14 17:10 notebooks\n",
            "-rw-r--r-- 1 root root   398 Sep 14 17:10 Pipfile\n",
            "-rw-r--r-- 1 root root  3155 Sep 14 17:10 README.md\n",
            "-rw-r--r-- 1 root root   588 Sep 14 17:10 requirements.txt\n",
            "drwxr-xr-x 2 root root  4096 Sep 14 17:10 scripts\n",
            "drwxr-xr-x 2 root root  4096 Sep 14 17:10 utils\n"
          ]
        }
      ],
      "source": [
        "# Clone your GitHub repo\n",
        "!git clone https://github.com/EricBaidoo/GhanaSegNet.git\n",
        "%cd GhanaSegNet\n",
        "\n",
        "# Check if we have the expected files\n",
        "!ls -la"
      ]
    },
    {
      "cell_type": "markdown",
      "id": "fb7bd9c4",
      "metadata": {
        "id": "fb7bd9c4"
      },
      "source": [
        "## 📁 Dataset Connection Instructions\n",
        "\n",
        "**Before running the next cell:**\n",
        "\n",
        "1. **Locate your data folder in Google Drive** - Find where you uploaded your `data` folder\n",
        "2. **Check the path** - Note the exact path (e.g., `MyDrive/data` or `MyDrive/GhanaSegNet/data`)\n",
        "3. **Update the copy command** - Modify the path in the next cell to match your Drive structure\n",
        "4. **Run the cell** - The dataset will be copied to your Colab workspace\n",
        "\n",
        "**Expected folder structure after copying:**\n",
        "```\n",
        "data/\n",
        "  train/\n",
        "    images/\n",
        "    masks/\n",
        "  val/\n",
        "    images/\n",
        "    masks/\n",
        "  test/ (optional)\n",
        "    images/\n",
        "    masks/\n",
        "```"
      ]
    },
    {
      "cell_type": "code",
      "execution_count": 3,
      "id": "425c0aed",
      "metadata": {
        "id": "425c0aed"
      },
      "outputs": [],
      "source": [
        "# Download and extract data from Google Drive\n",
        "# First, upload your data.tar.gz to Google Drive, then update the path below\n",
        "\n",
        "# Option 1: If you uploaded data.tar.gz to Drive\n",
        "# !cp \"/content/drive/MyDrive/data.tar.gz\" .\n",
        "# !tar -xzf data.tar.gz\n",
        "\n",
        "# Option 2: If you uploaded the data folder directly to Drive\n",
        "# Copy your dataset from Google Drive to Colab workspace\n",
        "# IMPORTANT: Update the path below to match where you uploaded your data folder in Google Drive\n",
        "\n",
        "# Option 1: If your data folder is in the root of MyDrive\n",
        "!cp -r \"/content/drive/MyDrive/data\" .\n",
        "\n",
        "# Option 2: If your data folder is in a subfolder (update path as needed)\n",
        "# !cp -r \"/content/drive/MyDrive/YourFolder/data\" .\n",
        "\n",
        "# Option 3: If you uploaded a compressed file\n",
        "# !cp \"/content/drive/MyDrive/data.tar.gz\" .\n",
        "# !tar -xzf data.tar.gz\n",
        "\n"
      ]
    },
    {
      "cell_type": "code",
      "execution_count": 4,
      "id": "76b4f20d",
      "metadata": {
        "colab": {
          "base_uri": "https://localhost:8080/"
        },
        "id": "76b4f20d",
        "outputId": "6b051a72-1543-4b3f-a931-8cf81d27f66f"
      },
      "outputs": [
        {
          "output_type": "stream",
          "name": "stdout",
          "text": [
            "Checking dataset structure...\n",
            "total 24\n",
            "drwx------ 5 root root 4096 Sep 14 17:13 .\n",
            "drwxr-xr-x 8 root root 4096 Sep 14 17:11 ..\n",
            "-rw------- 1 root root 2277 Sep 14 17:11 dataset_loader.py\n",
            "drwx------ 6 root root 4096 Sep 14 17:12 test\n",
            "drwx------ 6 root root 4096 Sep 14 17:18 train\n",
            "drwx------ 6 root root 4096 Sep 14 17:13 val\n",
            "Dataset statistics:\n",
            "Train images:\n",
            "3451\n",
            "Train masks:\n",
            "3436\n",
            "Val images:\n",
            "741\n",
            "Val masks:\n",
            "738\n"
          ]
        }
      ],
      "source": [
        "# Verify dataset is copied successfully\n",
        "print(\"Checking dataset structure...\")\n",
        "!ls -la data/\n",
        "print(\"Dataset statistics:\")\n",
        "!echo \"Train images:\" && ls data/train/images/ | wc -l\n",
        "!echo \"Train masks:\" && ls data/train/masks/ | wc -l\n",
        "!echo \"Val images:\" && ls data/val/images/ | wc -l 2>/dev/null || echo \"No val images found\"\n",
        "!echo \"Val masks:\" && ls data/val/masks/ | wc -l 2>/dev/null || echo \"No val masks found\""
      ]
    },
    {
      "cell_type": "code",
      "execution_count": 6,
      "id": "df0f3e19",
      "metadata": {
        "colab": {
          "base_uri": "https://localhost:8080/"
        },
        "id": "df0f3e19",
        "outputId": "7bc9adb0-6e56-4ef4-c6ff-89a0bfd9b75a"
      },
      "outputs": [
        {
          "output_type": "stream",
          "name": "stdout",
          "text": [
            "Looking in indexes: https://download.pytorch.org/whl/cu118\n",
            "Requirement already satisfied: torch in /usr/local/lib/python3.12/dist-packages (2.8.0+cu126)\n",
            "Requirement already satisfied: torchvision in /usr/local/lib/python3.12/dist-packages (0.23.0+cu126)\n",
            "Requirement already satisfied: torchaudio in /usr/local/lib/python3.12/dist-packages (2.8.0+cu126)\n",
            "Requirement already satisfied: filelock in /usr/local/lib/python3.12/dist-packages (from torch) (3.19.1)\n",
            "Requirement already satisfied: typing-extensions>=4.10.0 in /usr/local/lib/python3.12/dist-packages (from torch) (4.15.0)\n",
            "Requirement already satisfied: setuptools in /usr/local/lib/python3.12/dist-packages (from torch) (75.2.0)\n",
            "Requirement already satisfied: sympy>=1.13.3 in /usr/local/lib/python3.12/dist-packages (from torch) (1.13.3)\n",
            "Requirement already satisfied: networkx in /usr/local/lib/python3.12/dist-packages (from torch) (3.5)\n",
            "Requirement already satisfied: jinja2 in /usr/local/lib/python3.12/dist-packages (from torch) (3.1.6)\n",
            "Requirement already satisfied: fsspec in /usr/local/lib/python3.12/dist-packages (from torch) (2025.3.0)\n",
            "Requirement already satisfied: nvidia-cuda-nvrtc-cu12==12.6.77 in /usr/local/lib/python3.12/dist-packages (from torch) (12.6.77)\n",
            "Requirement already satisfied: nvidia-cuda-runtime-cu12==12.6.77 in /usr/local/lib/python3.12/dist-packages (from torch) (12.6.77)\n",
            "Requirement already satisfied: nvidia-cuda-cupti-cu12==12.6.80 in /usr/local/lib/python3.12/dist-packages (from torch) (12.6.80)\n",
            "Requirement already satisfied: nvidia-cudnn-cu12==9.10.2.21 in /usr/local/lib/python3.12/dist-packages (from torch) (9.10.2.21)\n",
            "Requirement already satisfied: nvidia-cublas-cu12==12.6.4.1 in /usr/local/lib/python3.12/dist-packages (from torch) (12.6.4.1)\n",
            "Requirement already satisfied: nvidia-cufft-cu12==11.3.0.4 in /usr/local/lib/python3.12/dist-packages (from torch) (11.3.0.4)\n",
            "Requirement already satisfied: nvidia-curand-cu12==10.3.7.77 in /usr/local/lib/python3.12/dist-packages (from torch) (10.3.7.77)\n",
            "Requirement already satisfied: nvidia-cusolver-cu12==11.7.1.2 in /usr/local/lib/python3.12/dist-packages (from torch) (11.7.1.2)\n",
            "Requirement already satisfied: nvidia-cusparse-cu12==12.5.4.2 in /usr/local/lib/python3.12/dist-packages (from torch) (12.5.4.2)\n",
            "Requirement already satisfied: nvidia-cusparselt-cu12==0.7.1 in /usr/local/lib/python3.12/dist-packages (from torch) (0.7.1)\n",
            "Requirement already satisfied: nvidia-nccl-cu12==2.27.3 in /usr/local/lib/python3.12/dist-packages (from torch) (2.27.3)\n",
            "Requirement already satisfied: nvidia-nvtx-cu12==12.6.77 in /usr/local/lib/python3.12/dist-packages (from torch) (12.6.77)\n",
            "Requirement already satisfied: nvidia-nvjitlink-cu12==12.6.85 in /usr/local/lib/python3.12/dist-packages (from torch) (12.6.85)\n",
            "Requirement already satisfied: nvidia-cufile-cu12==1.11.1.6 in /usr/local/lib/python3.12/dist-packages (from torch) (1.11.1.6)\n",
            "Requirement already satisfied: triton==3.4.0 in /usr/local/lib/python3.12/dist-packages (from torch) (3.4.0)\n",
            "Requirement already satisfied: numpy in /usr/local/lib/python3.12/dist-packages (from torchvision) (2.0.2)\n",
            "Requirement already satisfied: pillow!=8.3.*,>=5.3.0 in /usr/local/lib/python3.12/dist-packages (from torchvision) (11.3.0)\n",
            "Requirement already satisfied: mpmath<1.4,>=1.1.0 in /usr/local/lib/python3.12/dist-packages (from sympy>=1.13.3->torch) (1.3.0)\n",
            "Requirement already satisfied: MarkupSafe>=2.0 in /usr/local/lib/python3.12/dist-packages (from jinja2->torch) (3.0.2)\n",
            "Requirement already satisfied: opencv-python in /usr/local/lib/python3.12/dist-packages (4.12.0.88)\n",
            "Requirement already satisfied: pillow in /usr/local/lib/python3.12/dist-packages (11.3.0)\n",
            "Requirement already satisfied: tqdm in /usr/local/lib/python3.12/dist-packages (4.67.1)\n",
            "Requirement already satisfied: matplotlib in /usr/local/lib/python3.12/dist-packages (3.10.0)\n",
            "Requirement already satisfied: seaborn in /usr/local/lib/python3.12/dist-packages (0.13.2)\n",
            "Requirement already satisfied: numpy<2.3.0,>=2 in /usr/local/lib/python3.12/dist-packages (from opencv-python) (2.0.2)\n",
            "Requirement already satisfied: contourpy>=1.0.1 in /usr/local/lib/python3.12/dist-packages (from matplotlib) (1.3.3)\n",
            "Requirement already satisfied: cycler>=0.10 in /usr/local/lib/python3.12/dist-packages (from matplotlib) (0.12.1)\n",
            "Requirement already satisfied: fonttools>=4.22.0 in /usr/local/lib/python3.12/dist-packages (from matplotlib) (4.59.2)\n",
            "Requirement already satisfied: kiwisolver>=1.3.1 in /usr/local/lib/python3.12/dist-packages (from matplotlib) (1.4.9)\n",
            "Requirement already satisfied: packaging>=20.0 in /usr/local/lib/python3.12/dist-packages (from matplotlib) (25.0)\n",
            "Requirement already satisfied: pyparsing>=2.3.1 in /usr/local/lib/python3.12/dist-packages (from matplotlib) (3.2.3)\n",
            "Requirement already satisfied: python-dateutil>=2.7 in /usr/local/lib/python3.12/dist-packages (from matplotlib) (2.9.0.post0)\n",
            "Requirement already satisfied: pandas>=1.2 in /usr/local/lib/python3.12/dist-packages (from seaborn) (2.2.2)\n",
            "Requirement already satisfied: pytz>=2020.1 in /usr/local/lib/python3.12/dist-packages (from pandas>=1.2->seaborn) (2025.2)\n",
            "Requirement already satisfied: tzdata>=2022.7 in /usr/local/lib/python3.12/dist-packages (from pandas>=1.2->seaborn) (2025.2)\n",
            "Requirement already satisfied: six>=1.5 in /usr/local/lib/python3.12/dist-packages (from python-dateutil>=2.7->matplotlib) (1.17.0)\n",
            "Requirement already satisfied: efficientnet-pytorch in /usr/local/lib/python3.12/dist-packages (0.7.1)\n",
            "Requirement already satisfied: torch in /usr/local/lib/python3.12/dist-packages (from efficientnet-pytorch) (2.8.0+cu126)\n",
            "Requirement already satisfied: filelock in /usr/local/lib/python3.12/dist-packages (from torch->efficientnet-pytorch) (3.19.1)\n",
            "Requirement already satisfied: typing-extensions>=4.10.0 in /usr/local/lib/python3.12/dist-packages (from torch->efficientnet-pytorch) (4.15.0)\n",
            "Requirement already satisfied: setuptools in /usr/local/lib/python3.12/dist-packages (from torch->efficientnet-pytorch) (75.2.0)\n",
            "Requirement already satisfied: sympy>=1.13.3 in /usr/local/lib/python3.12/dist-packages (from torch->efficientnet-pytorch) (1.13.3)\n",
            "Requirement already satisfied: networkx in /usr/local/lib/python3.12/dist-packages (from torch->efficientnet-pytorch) (3.5)\n",
            "Requirement already satisfied: jinja2 in /usr/local/lib/python3.12/dist-packages (from torch->efficientnet-pytorch) (3.1.6)\n",
            "Requirement already satisfied: fsspec in /usr/local/lib/python3.12/dist-packages (from torch->efficientnet-pytorch) (2025.3.0)\n",
            "Requirement already satisfied: nvidia-cuda-nvrtc-cu12==12.6.77 in /usr/local/lib/python3.12/dist-packages (from torch->efficientnet-pytorch) (12.6.77)\n",
            "Requirement already satisfied: nvidia-cuda-runtime-cu12==12.6.77 in /usr/local/lib/python3.12/dist-packages (from torch->efficientnet-pytorch) (12.6.77)\n",
            "Requirement already satisfied: nvidia-cuda-cupti-cu12==12.6.80 in /usr/local/lib/python3.12/dist-packages (from torch->efficientnet-pytorch) (12.6.80)\n",
            "Requirement already satisfied: nvidia-cudnn-cu12==9.10.2.21 in /usr/local/lib/python3.12/dist-packages (from torch->efficientnet-pytorch) (9.10.2.21)\n",
            "Requirement already satisfied: nvidia-cublas-cu12==12.6.4.1 in /usr/local/lib/python3.12/dist-packages (from torch->efficientnet-pytorch) (12.6.4.1)\n",
            "Requirement already satisfied: nvidia-cufft-cu12==11.3.0.4 in /usr/local/lib/python3.12/dist-packages (from torch->efficientnet-pytorch) (11.3.0.4)\n",
            "Requirement already satisfied: nvidia-curand-cu12==10.3.7.77 in /usr/local/lib/python3.12/dist-packages (from torch->efficientnet-pytorch) (10.3.7.77)\n",
            "Requirement already satisfied: nvidia-cusolver-cu12==11.7.1.2 in /usr/local/lib/python3.12/dist-packages (from torch->efficientnet-pytorch) (11.7.1.2)\n",
            "Requirement already satisfied: nvidia-cusparse-cu12==12.5.4.2 in /usr/local/lib/python3.12/dist-packages (from torch->efficientnet-pytorch) (12.5.4.2)\n",
            "Requirement already satisfied: nvidia-cusparselt-cu12==0.7.1 in /usr/local/lib/python3.12/dist-packages (from torch->efficientnet-pytorch) (0.7.1)\n",
            "Requirement already satisfied: nvidia-nccl-cu12==2.27.3 in /usr/local/lib/python3.12/dist-packages (from torch->efficientnet-pytorch) (2.27.3)\n",
            "Requirement already satisfied: nvidia-nvtx-cu12==12.6.77 in /usr/local/lib/python3.12/dist-packages (from torch->efficientnet-pytorch) (12.6.77)\n",
            "Requirement already satisfied: nvidia-nvjitlink-cu12==12.6.85 in /usr/local/lib/python3.12/dist-packages (from torch->efficientnet-pytorch) (12.6.85)\n",
            "Requirement already satisfied: nvidia-cufile-cu12==1.11.1.6 in /usr/local/lib/python3.12/dist-packages (from torch->efficientnet-pytorch) (1.11.1.6)\n",
            "Requirement already satisfied: triton==3.4.0 in /usr/local/lib/python3.12/dist-packages (from torch->efficientnet-pytorch) (3.4.0)\n",
            "Requirement already satisfied: mpmath<1.4,>=1.1.0 in /usr/local/lib/python3.12/dist-packages (from sympy>=1.13.3->torch->efficientnet-pytorch) (1.3.0)\n",
            "Requirement already satisfied: MarkupSafe>=2.0 in /usr/local/lib/python3.12/dist-packages (from jinja2->torch->efficientnet-pytorch) (3.0.2)\n",
            "Requirement already satisfied: segmentation-models-pytorch in /usr/local/lib/python3.12/dist-packages (0.5.0)\n",
            "Requirement already satisfied: huggingface-hub>=0.24 in /usr/local/lib/python3.12/dist-packages (from segmentation-models-pytorch) (0.34.4)\n",
            "Requirement already satisfied: numpy>=1.19.3 in /usr/local/lib/python3.12/dist-packages (from segmentation-models-pytorch) (2.0.2)\n",
            "Requirement already satisfied: pillow>=8 in /usr/local/lib/python3.12/dist-packages (from segmentation-models-pytorch) (11.3.0)\n",
            "Requirement already satisfied: safetensors>=0.3.1 in /usr/local/lib/python3.12/dist-packages (from segmentation-models-pytorch) (0.6.2)\n",
            "Requirement already satisfied: timm>=0.9 in /usr/local/lib/python3.12/dist-packages (from segmentation-models-pytorch) (1.0.19)\n",
            "Requirement already satisfied: torch>=1.8 in /usr/local/lib/python3.12/dist-packages (from segmentation-models-pytorch) (2.8.0+cu126)\n",
            "Requirement already satisfied: torchvision>=0.9 in /usr/local/lib/python3.12/dist-packages (from segmentation-models-pytorch) (0.23.0+cu126)\n",
            "Requirement already satisfied: tqdm>=4.42.1 in /usr/local/lib/python3.12/dist-packages (from segmentation-models-pytorch) (4.67.1)\n",
            "Requirement already satisfied: filelock in /usr/local/lib/python3.12/dist-packages (from huggingface-hub>=0.24->segmentation-models-pytorch) (3.19.1)\n",
            "Requirement already satisfied: fsspec>=2023.5.0 in /usr/local/lib/python3.12/dist-packages (from huggingface-hub>=0.24->segmentation-models-pytorch) (2025.3.0)\n",
            "Requirement already satisfied: packaging>=20.9 in /usr/local/lib/python3.12/dist-packages (from huggingface-hub>=0.24->segmentation-models-pytorch) (25.0)\n",
            "Requirement already satisfied: pyyaml>=5.1 in /usr/local/lib/python3.12/dist-packages (from huggingface-hub>=0.24->segmentation-models-pytorch) (6.0.2)\n",
            "Requirement already satisfied: requests in /usr/local/lib/python3.12/dist-packages (from huggingface-hub>=0.24->segmentation-models-pytorch) (2.32.4)\n",
            "Requirement already satisfied: typing-extensions>=3.7.4.3 in /usr/local/lib/python3.12/dist-packages (from huggingface-hub>=0.24->segmentation-models-pytorch) (4.15.0)\n",
            "Requirement already satisfied: hf-xet<2.0.0,>=1.1.3 in /usr/local/lib/python3.12/dist-packages (from huggingface-hub>=0.24->segmentation-models-pytorch) (1.1.9)\n",
            "Requirement already satisfied: setuptools in /usr/local/lib/python3.12/dist-packages (from torch>=1.8->segmentation-models-pytorch) (75.2.0)\n",
            "Requirement already satisfied: sympy>=1.13.3 in /usr/local/lib/python3.12/dist-packages (from torch>=1.8->segmentation-models-pytorch) (1.13.3)\n",
            "Requirement already satisfied: networkx in /usr/local/lib/python3.12/dist-packages (from torch>=1.8->segmentation-models-pytorch) (3.5)\n",
            "Requirement already satisfied: jinja2 in /usr/local/lib/python3.12/dist-packages (from torch>=1.8->segmentation-models-pytorch) (3.1.6)\n",
            "Requirement already satisfied: nvidia-cuda-nvrtc-cu12==12.6.77 in /usr/local/lib/python3.12/dist-packages (from torch>=1.8->segmentation-models-pytorch) (12.6.77)\n",
            "Requirement already satisfied: nvidia-cuda-runtime-cu12==12.6.77 in /usr/local/lib/python3.12/dist-packages (from torch>=1.8->segmentation-models-pytorch) (12.6.77)\n",
            "Requirement already satisfied: nvidia-cuda-cupti-cu12==12.6.80 in /usr/local/lib/python3.12/dist-packages (from torch>=1.8->segmentation-models-pytorch) (12.6.80)\n",
            "Requirement already satisfied: nvidia-cudnn-cu12==9.10.2.21 in /usr/local/lib/python3.12/dist-packages (from torch>=1.8->segmentation-models-pytorch) (9.10.2.21)\n",
            "Requirement already satisfied: nvidia-cublas-cu12==12.6.4.1 in /usr/local/lib/python3.12/dist-packages (from torch>=1.8->segmentation-models-pytorch) (12.6.4.1)\n",
            "Requirement already satisfied: nvidia-cufft-cu12==11.3.0.4 in /usr/local/lib/python3.12/dist-packages (from torch>=1.8->segmentation-models-pytorch) (11.3.0.4)\n",
            "Requirement already satisfied: nvidia-curand-cu12==10.3.7.77 in /usr/local/lib/python3.12/dist-packages (from torch>=1.8->segmentation-models-pytorch) (10.3.7.77)\n",
            "Requirement already satisfied: nvidia-cusolver-cu12==11.7.1.2 in /usr/local/lib/python3.12/dist-packages (from torch>=1.8->segmentation-models-pytorch) (11.7.1.2)\n",
            "Requirement already satisfied: nvidia-cusparse-cu12==12.5.4.2 in /usr/local/lib/python3.12/dist-packages (from torch>=1.8->segmentation-models-pytorch) (12.5.4.2)\n",
            "Requirement already satisfied: nvidia-cusparselt-cu12==0.7.1 in /usr/local/lib/python3.12/dist-packages (from torch>=1.8->segmentation-models-pytorch) (0.7.1)\n",
            "Requirement already satisfied: nvidia-nccl-cu12==2.27.3 in /usr/local/lib/python3.12/dist-packages (from torch>=1.8->segmentation-models-pytorch) (2.27.3)\n",
            "Requirement already satisfied: nvidia-nvtx-cu12==12.6.77 in /usr/local/lib/python3.12/dist-packages (from torch>=1.8->segmentation-models-pytorch) (12.6.77)\n",
            "Requirement already satisfied: nvidia-nvjitlink-cu12==12.6.85 in /usr/local/lib/python3.12/dist-packages (from torch>=1.8->segmentation-models-pytorch) (12.6.85)\n",
            "Requirement already satisfied: nvidia-cufile-cu12==1.11.1.6 in /usr/local/lib/python3.12/dist-packages (from torch>=1.8->segmentation-models-pytorch) (1.11.1.6)\n",
            "Requirement already satisfied: triton==3.4.0 in /usr/local/lib/python3.12/dist-packages (from torch>=1.8->segmentation-models-pytorch) (3.4.0)\n",
            "Requirement already satisfied: mpmath<1.4,>=1.1.0 in /usr/local/lib/python3.12/dist-packages (from sympy>=1.13.3->torch>=1.8->segmentation-models-pytorch) (1.3.0)\n",
            "Requirement already satisfied: MarkupSafe>=2.0 in /usr/local/lib/python3.12/dist-packages (from jinja2->torch>=1.8->segmentation-models-pytorch) (3.0.2)\n",
            "Requirement already satisfied: charset_normalizer<4,>=2 in /usr/local/lib/python3.12/dist-packages (from requests->huggingface-hub>=0.24->segmentation-models-pytorch) (3.4.3)\n",
            "Requirement already satisfied: idna<4,>=2.5 in /usr/local/lib/python3.12/dist-packages (from requests->huggingface-hub>=0.24->segmentation-models-pytorch) (3.10)\n",
            "Requirement already satisfied: urllib3<3,>=1.21.1 in /usr/local/lib/python3.12/dist-packages (from requests->huggingface-hub>=0.24->segmentation-models-pytorch) (2.5.0)\n",
            "Requirement already satisfied: certifi>=2017.4.17 in /usr/local/lib/python3.12/dist-packages (from requests->huggingface-hub>=0.24->segmentation-models-pytorch) (2025.8.3)\n",
            "🖥️  CUDA available: True\n",
            "🎮 GPU device: NVIDIA A100-SXM4-40GB\n",
            "📊 PyTorch version: 2.8.0+cu126\n",
            "✅ EfficientNet-PyTorch installed successfully\n"
          ]
        }
      ],
      "source": [
        "# ===== CELL 1: Setup and Dependencies =====\n",
        "# Install all required dependencies\n",
        "!pip install torch torchvision torchaudio --index-url https://download.pytorch.org/whl/cu118\n",
        "!pip install opencv-python pillow tqdm matplotlib seaborn\n",
        "!pip install efficientnet-pytorch  # Required for GhanaSegNet backbone\n",
        "!pip install segmentation-models-pytorch  # For DeepLabV3+ and other models\n",
        "\n",
        "import torch\n",
        "import os\n",
        "print(f\"🖥️  CUDA available: {torch.cuda.is_available()}\")\n",
        "print(f\"🎮 GPU device: {torch.cuda.get_device_name(0) if torch.cuda.is_available() else 'No GPU'}\")\n",
        "print(f\"📊 PyTorch version: {torch.__version__}\")\n",
        "\n",
        "# Verify EfficientNet installation\n",
        "try:\n",
        "    from efficientnet_pytorch import EfficientNet\n",
        "    print(\"✅ EfficientNet-PyTorch installed successfully\")\n",
        "except ImportError:\n",
        "    print(\"❌ EfficientNet-PyTorch not found - installing...\")\n",
        "    !pip install efficientnet-pytorch\n",
        "    from efficientnet_pytorch import EfficientNet\n",
        "    print(\"✅ EfficientNet-PyTorch installed successfully\")"
      ]
    },
    {
      "cell_type": "code",
      "execution_count": 7,
      "id": "ea95a46b",
      "metadata": {
        "colab": {
          "base_uri": "https://localhost:8080/"
        },
        "id": "ea95a46b",
        "outputId": "b3540dce-4e52-4ca5-e152-cd102f059438"
      },
      "outputs": [
        {
          "output_type": "stream",
          "name": "stdout",
          "text": [
            "📁 Current directory: /content/GhanaSegNet\n",
            "📄 Files: ['LICENSE', '.gitignore', 'notebooks', 'scripts', '.git', 'README.md', 'Pipfile', 'cleanup_repo.py', 'requirements.txt', 'GhanaSegNet_Colab.ipynb']\n",
            "\n",
            "🔍 Verifying project imports...\n",
            "✅ GhanaSegNet model imported successfully\n",
            "✅ All baseline models imported successfully\n"
          ]
        }
      ],
      "source": [
        "# ===== CELL 2: Navigate to Project (after uploading) =====\n",
        "# Upload your GhanaSegNet folder to Colab first!\n",
        "os.chdir('/content/GhanaSegNet')\n",
        "print(f\"📁 Current directory: {os.getcwd()}\")\n",
        "print(f\"📄 Files: {os.listdir('.')[:10]}\")  # Show first 10 files\n",
        "\n",
        "# Verify all required modules can be imported\n",
        "print(\"\\n🔍 Verifying project imports...\")\n",
        "try:\n",
        "    from models.ghanasegnet import GhanaSegNet\n",
        "    print(\"✅ GhanaSegNet model imported successfully\")\n",
        "except ImportError as e:\n",
        "    print(f\"❌ GhanaSegNet import failed: {e}\")\n",
        "\n",
        "try:\n",
        "    from models.unet import UNet\n",
        "    from models.deeplabv3plus import DeepLabV3Plus\n",
        "    from models.segformer import SegFormerB0\n",
        "    print(\"✅ All baseline models imported successfully\")\n",
        "except ImportError as e:\n",
        "    print(f\"❌ Baseline model import failed: {e}\")"
      ]
    },
    {
      "cell_type": "code",
      "execution_count": null,
      "id": "45f88013",
      "metadata": {
        "id": "45f88013"
      },
      "outputs": [],
      "source": [
        "Train GhanaSegNet\n",
        "import subprocess\n",
        "\n",
        "print(\"🚀 Starting GhanaSegNet training...\")\n",
        "print(\"🧠 Your novel hybrid CNN-Transformer architecture\")\n",
        "print(\"📊 Expected performance: >24% mIoU (based on previous results)\")\n",
        "subprocess.run(['python', 'scripts/train_baselines.py', '--model', 'ghanasegnet', '--epochs', '15'])\n"
      ]
    },
    {
      "cell_type": "code",
      "execution_count": null,
      "id": "5633249c",
      "metadata": {
        "id": "5633249c"
      },
      "outputs": [],
      "source": [
        "# ===== CELL 4: Train SegFormer (Best Transformer Baseline) =====\n",
        "print(\"🚀 Starting SegFormer training...\")\n",
        "print(\"🤖 Pure Transformer architecture baseline\")\n",
        "print(\"📊 Expected performance: 18-23% mIoU\")\n",
        "subprocess.run(['python', 'scripts/train_baselines.py', '--model', 'segformer', '--epochs', '15'])\n"
      ]
    },
    {
      "cell_type": "code",
      "execution_count": null,
      "id": "20faabe7",
      "metadata": {
        "id": "20faabe7"
      },
      "outputs": [],
      "source": [
        "# ===== CELL 5: Train DeepLabV3+ (CNN State-of-the-art) =====\n",
        "print(\"🚀 Starting DeepLabV3+ training...\")\n",
        "print(\"🔬 ResNet-50 backbone with atrous convolutions\")\n",
        "print(\"📊 Expected performance: 15-21% mIoU\")\n",
        "subprocess.run(['python', 'scripts/train_baselines.py', '--model', 'deeplabv3plus', '--epochs', '15'])"
      ]
    },
    {
      "cell_type": "code",
      "execution_count": null,
      "id": "dd1624e2",
      "metadata": {
        "id": "dd1624e2"
      },
      "outputs": [],
      "source": [
        "# ===== CELL 6: Train UNet (Medical Baseline) =====\n",
        "print(\"🚀 Starting UNet training...\")\n",
        "print(\"🏥 Medical imaging architecture baseline\")\n",
        "print(\"📊 Expected performance: 12-18% mIoU\")\n",
        "subprocess.run(['python', 'scripts/train_baselines.py', '--model', 'unet', '--epochs', '15'])\n"
      ]
    },
    {
      "cell_type": "markdown",
      "id": "d21bdc97",
      "metadata": {
        "id": "d21bdc97"
      },
      "source": [
        " # Results Analysis"
      ]
    },
    {
      "cell_type": "code",
      "execution_count": null,
      "id": "23d987f8",
      "metadata": {
        "id": "23d987f8"
      },
      "outputs": [],
      "source": [
        "\n",
        "import json\n",
        "import matplotlib.pyplot as plt\n",
        "import numpy as np\n",
        "\n",
        "# Load all results\n",
        "models = ['ghanasegnet', 'segformer', 'deeplabv3plus', 'unet']\n",
        "results = {}\n",
        "print(\"📊 Loading results...\")\n",
        "\n",
        "for model in models:\n",
        "    try:\n",
        "        with open(f'checkpoints/{model}/{model}_results.json', 'r') as f:\n",
        "            results[model] = json.load(f)\n",
        "        print(f\"✅ {model.upper()}: {results[model]['best_iou']*100:.2f}% mIoU\")\n",
        "    except FileNotFoundError:\n",
        "        print(f\"❌ {model.upper()}: Results not found\")\n",
        "\n",
        "# Create comprehensive comparison plot\n",
        "if len(results) > 0:\n",
        "    fig, ((ax1, ax2), (ax3, ax4)) = plt.subplots(2, 2, figsize=(15, 12))\n",
        "\n",
        "    # Model names and colors\n",
        "    model_names = [m.upper() for m in results.keys()]\n",
        "    colors = ['#FF6B6B', '#4ECDC4', '#45B7D1', '#96CEB4'][:len(results)]\n",
        "\n",
        "    # 1. Performance comparison\n",
        "    ious = [results[m]['best_iou'] * 100 for m in results.keys()]\n",
        "    bars1 = ax1.bar(model_names, ious, color=colors)\n",
        "    ax1.set_ylabel('mIoU (%)', fontsize=12)\n",
        "    ax1.set_title('🏆 Model Performance Comparison', fontsize=14, fontweight='bold')\n",
        "    ax1.set_ylim(0, max(ious) * 1.2)\n",
        "    for i, v in enumerate(ious):\n",
        "        ax1.text(i, v + 1, f'{v:.1f}%', ha='center', va='bottom', fontweight='bold')\n",
        "\n",
        "    # 2. Parameter efficiency\n",
        "    params = [results[m]['total_parameters'] / 1e6 for m in results.keys()]\n",
        "    bars2 = ax2.bar(model_names, params, color=colors)\n",
        "    ax2.set_ylabel('Parameters (Millions)', fontsize=12)\n",
        "    ax2.set_title('⚡ Model Efficiency Comparison', fontsize=14, fontweight='bold')\n",
        "    for i, v in enumerate(params):\n",
        "        ax2.text(i, v + 0.5, f'{v:.1f}M', ha='center', va='bottom', fontweight='bold')\n",
        "\n",
        "    # 3. Training epochs (final)\n",
        "    epochs = [results[m]['final_epoch'] for m in results.keys()]\n",
        "    bars3 = ax3.bar(model_names, epochs, color=colors)\n",
        "    ax3.set_ylabel('Training Epochs', fontsize=12)\n",
        "    ax3.set_title('🛑 Early Stopping Analysis', fontsize=14, fontweight='bold')\n",
        "    for i, v in enumerate(epochs):\n",
        "        ax3.text(i, v + 0.2, f'{v}', ha='center', va='bottom', fontweight='bold')\n",
        "\n",
        "    # 4. Efficiency scatter plot\n",
        "    ax4.scatter(params, ious, c=colors, s=200, alpha=0.7)\n",
        "    for i, model in enumerate(model_names):\n",
        "        ax4.annotate(model, (params[i], ious[i]), xytext=(5, 5),\n",
        "                    textcoords='offset points', fontweight='bold')\n",
        "    ax4.set_xlabel('Parameters (Millions)', fontsize=12)\n",
        "    ax4.set_ylabel('mIoU (%)', fontsize=12)\n",
        "    ax4.set_title('📈 Efficiency vs Performance', fontsize=14, fontweight='bold')\n",
        "    ax4.grid(True, alpha=0.3)\n",
        "\n",
        "    plt.tight_layout()\n",
        "    plt.show()\n",
        "\n",
        "    # Summary table\n",
        "    print(\"\\n\" + \"=\"*80)\n",
        "    print(\"🏆 GHANASEGNET FAIR COMPARISON RESULTS\")\n",
        "    print(\"=\"*80)\n",
        "    print(f\"{'Model':<15} {'mIoU (%)':<10} {'Parameters':<12} {'Epochs':<8} {'Status'}\")\n",
        "    print(\"-\"*80)\n",
        "\n",
        "    best_iou = max(ious)\n",
        "    for i, model in enumerate(results.keys()):\n",
        "        status = \"🥇 WINNER\" if ious[i] == best_iou else \"\"\n",
        "        print(f\"{model.upper():<15} {ious[i]:<10.1f} {params[i]:<12.1f}M {epochs[i]:<8} {status}\")\n",
        "\n",
        "    print(\"-\"*80)\n",
        "    if len(ious) > 1:\n",
        "        sorted_ious = sorted(ious, reverse=True)\n",
        "        improvement = ((sorted_ious[0] - sorted_ious[1]) / sorted_ious[1]) * 100\n",
        "        print(f\"🚀 Best model improvement over 2nd best: {improvement:.1f}%\")\n",
        "    print(f\"⚡ Most efficient model: {model_names[params.index(min(params))]} ({min(params):.1f}M params)\")\n",
        "    print(\"=\"*80)"
      ]
    },
    {
      "cell_type": "markdown",
      "id": "936973cd",
      "metadata": {
        "id": "936973cd"
      },
      "source": [
        "# Download Results"
      ]
    },
    {
      "cell_type": "code",
      "execution_count": null,
      "id": "b82e6ec2",
      "metadata": {
        "id": "b82e6ec2"
      },
      "outputs": [],
      "source": [
        "\n",
        "# Create downloadable results package\n",
        "import zipfile\n",
        "\n",
        "def create_results_package():\n",
        "    with zipfile.ZipFile('ghanasegnet_results.zip', 'w') as zipf:\n",
        "        # Add model checkpoints\n",
        "        for model in ['ghanasegnet', 'segformer', 'deeplabv3plus', 'unet']:\n",
        "            try:\n",
        "                zipf.write(f'checkpoints/{model}/best_{model}.pth')\n",
        "                zipf.write(f'checkpoints/{model}/{model}_results.json')\n",
        "                print(f\"✅ Added {model} results to package\")\n",
        "            except FileNotFoundError:\n",
        "                print(f\"⚠️ {model} results not found\")\n",
        "\n",
        "        # Add training summary\n",
        "        try:\n",
        "            zipf.write('checkpoints/training_summary.json')\n",
        "            print(\"✅ Added training summary\")\n",
        "        except FileNotFoundError:\n",
        "            print(\"⚠️ Training summary not found\")\n",
        "\n",
        "        # Add updated training log\n",
        "        try:\n",
        "            zipf.write('Training_Results_Log.md')\n",
        "            print(\"✅ Added training log\")\n",
        "        except FileNotFoundError:\n",
        "            print(\"⚠️ Training log not found\")\n",
        "\n",
        "    print(\"📦 Results package created: ghanasegnet_results.zip\")\n",
        "    print(\"💾 Download this file to save your training results!\")\n",
        "\n",
        "create_results_package()\n",
        "\n",
        "# Download command for Colab\n",
        "from google.colab import files\n",
        "files.download('ghanasegnet_results.zip')\n",
        "\n",
        "print(\"🎉 Training completed! Check your downloads for the results package.\")\n",
        "print(f\"📊 Total models trained: {len(results)}\")\n",
        "if results:\n",
        "    best_model = max(results.keys(), key=lambda k: results[k]['best_iou'])\n",
        "    print(f\"🏆 Best performing model: {best_model.upper()} ({results[best_model]['best_iou']*100:.2f}% mIoU)\")"
      ]
    }
  ],
  "metadata": {
    "accelerator": "GPU",
    "colab": {
      "gpuType": "A100",
      "provenance": [],
      "include_colab_link": true
    },
    "kernelspec": {
      "display_name": "Python 3",
      "name": "python3"
    },
    "language_info": {
      "name": "python"
    }
  },
  "nbformat": 4,
  "nbformat_minor": 5
}