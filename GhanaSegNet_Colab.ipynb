{
 "cells": [
  {
   "cell_type": "markdown",
   "id": "d998c88f",
   "metadata": {},
   "source": [
    "# GhanaSegNet Colab Training Notebook\n",
    "This notebook sets up your environment, installs dependencies, and runs your baseline training script for UNet, DeepLabV3+, and SegFormer-B0 on Colab GPU."
   ]
  },
  {
   "cell_type": "code",
   "execution_count": null,
   "id": "52b4adc6",
   "metadata": {},
   "outputs": [],
   "source": [
    "# Mount Google Drive\n",
    "from google.colab import drive\n",
    "drive.mount('/content/drive')"
   ]
  },
  {
   "cell_type": "code",
   "execution_count": null,
   "id": "6ceb2350",
   "metadata": {},
   "outputs": [],
   "source": [
    "# Clone your GitHub repo (or copy from Drive)\n",
    "!git clone https://github.com/EricBaidoo/GhanaSegNet.git\n",
    "%cd GhanaSegNet"
   ]
  },
  {
   "cell_type": "code",
   "execution_count": null,
   "id": "df0f3e19",
   "metadata": {},
   "outputs": [],
   "source": [
    "# Install dependencies\n",
    "!pip install -r requirements.txt"
   ]
  },
  {
   "cell_type": "code",
   "execution_count": null,
   "id": "ea95a46b",
   "metadata": {},
   "outputs": [],
   "source": [
    "# Run baseline training for all models\n",
    "!python scripts/train_baselines.py --model all --epochs 1"
   ]
  },
  {
   "cell_type": "code",
   "execution_count": null,
   "id": "20faabe7",
   "metadata": {},
   "outputs": [],
   "source": [
    "# Optionally, copy checkpoints/results to Google Drive\n",
    "!cp -r checkpoints /content/drive/MyDrive/GhanaSegNet_checkpoints"
   ]
  }
 ],
 "metadata": {
  "language_info": {
   "name": "python"
  }
 },
 "nbformat": 4,
 "nbformat_minor": 5
}
